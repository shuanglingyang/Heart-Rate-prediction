{
 "cells": [
  {
   "cell_type": "markdown",
   "id": "6e9e1420",
   "metadata": {},
   "source": [
    "# Exercise 1"
   ]
  },
  {
   "cell_type": "code",
   "execution_count": 410,
   "id": "05254ca7",
   "metadata": {},
   "outputs": [],
   "source": [
    "import scipy.io\n",
    "import matplotlib.pyplot as plt\n",
    "import numpy as np\n",
    "from scipy.stats import skew\n",
    "import pandas as pd\n",
    "import scipy\n",
    "from scipy import io\n",
    "from tqdm.notebook import tqdm\n",
    "from numpy import random, arange\n",
    "from numpy.fft import rfft, rfftfreq\n",
    "from scipy.signal import butter, lfilter\n",
    "from sklearn.datasets import make_classification\n",
    "from sklearn.metrics import plot_confusion_matrix\n",
    "from sklearn.model_selection import train_test_split\n",
    "from sklearn.svm import SVC\n",
    "import random\n",
    "import seaborn as sns\n"
   ]
  },
  {
   "cell_type": "markdown",
   "id": "d08730fb",
   "metadata": {},
   "source": [
    "## Understand the dataset\n",
    "\n",
    "\n",
    "This dataset consists of two groups of participants (groups 1 and 2).  For each participant in both groups, there are three types of. mat files, PPG data, True BMP, and Labels. PPG data contains two-channel PPG signals(`PPG1`,`PPG2`), three axis acceleration signals(`a_x`,`a_y`,`a_z`), and one-channel ECG signals(`ECG`). True BMP indicates the true heart rate calculated from `ECG` signal from PPG data. And the Labels tell if the difference between the estimation and the ground truth is large than 5(1:less than 5, 0: large than 5).\n",
    "\n",
    "There is no sufficient data for sport type 01 in both groups, so I decide to only investigate the influence of different types of sports(eg: running and forearm and uparm movements) instead of the sports intensity on heart rate. Since I don't take into account health condition for this analysis, the data from the 8th person in group 2 with abnormal heart rhythm and blood pressure is excluded.\n",
    "\n",
    "Because there is no `ECG` feature in PPG data for group 2 and `ECG` can be represented by `BPM0`, I exclude `ECG` data from my analysis."
   ]
  },
  {
   "cell_type": "markdown",
   "id": "d03c6291",
   "metadata": {},
   "source": [
    "Having a look at the dataset"
   ]
  },
  {
   "cell_type": "code",
   "execution_count": 526,
   "id": "3c1850cb",
   "metadata": {},
   "outputs": [
    {
     "data": {
      "text/html": [
       "<div>\n",
       "<style scoped>\n",
       "    .dataframe tbody tr th:only-of-type {\n",
       "        vertical-align: middle;\n",
       "    }\n",
       "\n",
       "    .dataframe tbody tr th {\n",
       "        vertical-align: top;\n",
       "    }\n",
       "\n",
       "    .dataframe thead th {\n",
       "        text-align: right;\n",
       "    }\n",
       "</style>\n",
       "<table border=\"1\" class=\"dataframe\">\n",
       "  <thead>\n",
       "    <tr style=\"text-align: right;\">\n",
       "      <th></th>\n",
       "      <th>ECG</th>\n",
       "      <th>PPG1</th>\n",
       "      <th>PPG2</th>\n",
       "      <th>a_x</th>\n",
       "      <th>a_y</th>\n",
       "      <th>a_z</th>\n",
       "    </tr>\n",
       "  </thead>\n",
       "  <tbody>\n",
       "    <tr>\n",
       "      <th>0</th>\n",
       "      <td>-173.0</td>\n",
       "      <td>-88.0</td>\n",
       "      <td>-17.5</td>\n",
       "      <td>-0.1404</td>\n",
       "      <td>0.1482</td>\n",
       "      <td>0.6630</td>\n",
       "    </tr>\n",
       "    <tr>\n",
       "      <th>1</th>\n",
       "      <td>-168.5</td>\n",
       "      <td>-85.5</td>\n",
       "      <td>-18.0</td>\n",
       "      <td>-0.1326</td>\n",
       "      <td>0.1638</td>\n",
       "      <td>0.6318</td>\n",
       "    </tr>\n",
       "    <tr>\n",
       "      <th>2</th>\n",
       "      <td>-164.5</td>\n",
       "      <td>-83.0</td>\n",
       "      <td>-19.0</td>\n",
       "      <td>-0.1170</td>\n",
       "      <td>0.1638</td>\n",
       "      <td>0.6240</td>\n",
       "    </tr>\n",
       "    <tr>\n",
       "      <th>3</th>\n",
       "      <td>-158.0</td>\n",
       "      <td>-80.0</td>\n",
       "      <td>-19.0</td>\n",
       "      <td>-0.1092</td>\n",
       "      <td>0.1716</td>\n",
       "      <td>0.6162</td>\n",
       "    </tr>\n",
       "    <tr>\n",
       "      <th>4</th>\n",
       "      <td>-148.0</td>\n",
       "      <td>-77.0</td>\n",
       "      <td>-19.5</td>\n",
       "      <td>-0.1092</td>\n",
       "      <td>0.1716</td>\n",
       "      <td>0.6240</td>\n",
       "    </tr>\n",
       "    <tr>\n",
       "      <th>...</th>\n",
       "      <td>...</td>\n",
       "      <td>...</td>\n",
       "      <td>...</td>\n",
       "      <td>...</td>\n",
       "      <td>...</td>\n",
       "      <td>...</td>\n",
       "    </tr>\n",
       "    <tr>\n",
       "      <th>37845</th>\n",
       "      <td>-382.5</td>\n",
       "      <td>41.5</td>\n",
       "      <td>23.0</td>\n",
       "      <td>-0.0858</td>\n",
       "      <td>0.8034</td>\n",
       "      <td>0.4056</td>\n",
       "    </tr>\n",
       "    <tr>\n",
       "      <th>37846</th>\n",
       "      <td>-381.5</td>\n",
       "      <td>35.0</td>\n",
       "      <td>18.5</td>\n",
       "      <td>-0.0936</td>\n",
       "      <td>0.8112</td>\n",
       "      <td>0.4056</td>\n",
       "    </tr>\n",
       "    <tr>\n",
       "      <th>37847</th>\n",
       "      <td>-378.0</td>\n",
       "      <td>28.5</td>\n",
       "      <td>13.5</td>\n",
       "      <td>-0.0858</td>\n",
       "      <td>0.8190</td>\n",
       "      <td>0.3978</td>\n",
       "    </tr>\n",
       "    <tr>\n",
       "      <th>37848</th>\n",
       "      <td>-378.5</td>\n",
       "      <td>23.0</td>\n",
       "      <td>10.5</td>\n",
       "      <td>-0.1014</td>\n",
       "      <td>0.8268</td>\n",
       "      <td>0.3822</td>\n",
       "    </tr>\n",
       "    <tr>\n",
       "      <th>37849</th>\n",
       "      <td>-376.0</td>\n",
       "      <td>18.5</td>\n",
       "      <td>7.5</td>\n",
       "      <td>-0.1014</td>\n",
       "      <td>0.8346</td>\n",
       "      <td>0.3978</td>\n",
       "    </tr>\n",
       "  </tbody>\n",
       "</table>\n",
       "<p>37850 rows × 6 columns</p>\n",
       "</div>"
      ],
      "text/plain": [
       "         ECG  PPG1  PPG2     a_x     a_y     a_z\n",
       "0     -173.0 -88.0 -17.5 -0.1404  0.1482  0.6630\n",
       "1     -168.5 -85.5 -18.0 -0.1326  0.1638  0.6318\n",
       "2     -164.5 -83.0 -19.0 -0.1170  0.1638  0.6240\n",
       "3     -158.0 -80.0 -19.0 -0.1092  0.1716  0.6162\n",
       "4     -148.0 -77.0 -19.5 -0.1092  0.1716  0.6240\n",
       "...      ...   ...   ...     ...     ...     ...\n",
       "37845 -382.5  41.5  23.0 -0.0858  0.8034  0.4056\n",
       "37846 -381.5  35.0  18.5 -0.0936  0.8112  0.4056\n",
       "37847 -378.0  28.5  13.5 -0.0858  0.8190  0.3978\n",
       "37848 -378.5  23.0  10.5 -0.1014  0.8268  0.3822\n",
       "37849 -376.0  18.5   7.5 -0.1014  0.8346  0.3978\n",
       "\n",
       "[37850 rows x 6 columns]"
      ]
     },
     "execution_count": 526,
     "metadata": {},
     "output_type": "execute_result"
    }
   ],
   "source": [
    "#load PPG data\n",
    "url='Exercise 1/PPG data/Group 1/DATA_2_TYPE02.mat'\n",
    "features_struct = scipy.io.loadmat(url)\n",
    "features = features_struct['sig']\n",
    "dfdata = pd.DataFrame(features)\n",
    "data=dfdata.T\n",
    "data.rename(columns={0:'ECG', 1:'PPG1', 2:'PPG2',3:'a_x',4:'a_y',5:'a_z'}, inplace = True)\n",
    "data "
   ]
  },
  {
   "cell_type": "code",
   "execution_count": 527,
   "id": "75d587d2",
   "metadata": {},
   "outputs": [
    {
     "name": "stdout",
     "output_type": "stream",
     "text": [
      "<class 'pandas.core.frame.DataFrame'>\n",
      "RangeIndex: 37850 entries, 0 to 37849\n",
      "Data columns (total 6 columns):\n",
      " #   Column  Non-Null Count  Dtype  \n",
      "---  ------  --------------  -----  \n",
      " 0   ECG     37850 non-null  float64\n",
      " 1   PPG1    37850 non-null  float64\n",
      " 2   PPG2    37850 non-null  float64\n",
      " 3   a_x     37850 non-null  float64\n",
      " 4   a_y     37850 non-null  float64\n",
      " 5   a_z     37850 non-null  float64\n",
      "dtypes: float64(6)\n",
      "memory usage: 1.7 MB\n"
     ]
    }
   ],
   "source": [
    "# Check the basic information of the data\n",
    "data.info()"
   ]
  },
  {
   "cell_type": "code",
   "execution_count": 528,
   "id": "8e9449f5",
   "metadata": {},
   "outputs": [
    {
     "data": {
      "text/html": [
       "<div>\n",
       "<style scoped>\n",
       "    .dataframe tbody tr th:only-of-type {\n",
       "        vertical-align: middle;\n",
       "    }\n",
       "\n",
       "    .dataframe tbody tr th {\n",
       "        vertical-align: top;\n",
       "    }\n",
       "\n",
       "    .dataframe thead th {\n",
       "        text-align: right;\n",
       "    }\n",
       "</style>\n",
       "<table border=\"1\" class=\"dataframe\">\n",
       "  <thead>\n",
       "    <tr style=\"text-align: right;\">\n",
       "      <th></th>\n",
       "      <th>ECG</th>\n",
       "      <th>PPG1</th>\n",
       "      <th>PPG2</th>\n",
       "      <th>a_x</th>\n",
       "      <th>a_y</th>\n",
       "      <th>a_z</th>\n",
       "    </tr>\n",
       "  </thead>\n",
       "  <tbody>\n",
       "    <tr>\n",
       "      <th>count</th>\n",
       "      <td>37850.000000</td>\n",
       "      <td>37850.000000</td>\n",
       "      <td>37850.000000</td>\n",
       "      <td>37850.000000</td>\n",
       "      <td>37850.000000</td>\n",
       "      <td>37850.000000</td>\n",
       "    </tr>\n",
       "    <tr>\n",
       "      <th>mean</th>\n",
       "      <td>-278.474927</td>\n",
       "      <td>-0.707966</td>\n",
       "      <td>3.292404</td>\n",
       "      <td>-0.244173</td>\n",
       "      <td>0.823529</td>\n",
       "      <td>0.404672</td>\n",
       "    </tr>\n",
       "    <tr>\n",
       "      <th>std</th>\n",
       "      <td>129.132680</td>\n",
       "      <td>57.130225</td>\n",
       "      <td>40.677968</td>\n",
       "      <td>0.413588</td>\n",
       "      <td>0.840990</td>\n",
       "      <td>0.590413</td>\n",
       "    </tr>\n",
       "    <tr>\n",
       "      <th>min</th>\n",
       "      <td>-1024.000000</td>\n",
       "      <td>-270.000000</td>\n",
       "      <td>-218.500000</td>\n",
       "      <td>-2.067000</td>\n",
       "      <td>-1.107600</td>\n",
       "      <td>-1.326000</td>\n",
       "    </tr>\n",
       "    <tr>\n",
       "      <th>25%</th>\n",
       "      <td>-323.375000</td>\n",
       "      <td>-30.500000</td>\n",
       "      <td>-22.000000</td>\n",
       "      <td>-0.475800</td>\n",
       "      <td>0.327600</td>\n",
       "      <td>0.046800</td>\n",
       "    </tr>\n",
       "    <tr>\n",
       "      <th>50%</th>\n",
       "      <td>-279.500000</td>\n",
       "      <td>-1.000000</td>\n",
       "      <td>4.500000</td>\n",
       "      <td>-0.187200</td>\n",
       "      <td>0.678600</td>\n",
       "      <td>0.522600</td>\n",
       "    </tr>\n",
       "    <tr>\n",
       "      <th>75%</th>\n",
       "      <td>-213.000000</td>\n",
       "      <td>33.500000</td>\n",
       "      <td>30.000000</td>\n",
       "      <td>0.000000</td>\n",
       "      <td>1.115400</td>\n",
       "      <td>0.787800</td>\n",
       "    </tr>\n",
       "    <tr>\n",
       "      <th>max</th>\n",
       "      <td>227.500000</td>\n",
       "      <td>208.500000</td>\n",
       "      <td>164.000000</td>\n",
       "      <td>0.912600</td>\n",
       "      <td>3.985800</td>\n",
       "      <td>2.394600</td>\n",
       "    </tr>\n",
       "  </tbody>\n",
       "</table>\n",
       "</div>"
      ],
      "text/plain": [
       "                ECG          PPG1          PPG2           a_x           a_y  \\\n",
       "count  37850.000000  37850.000000  37850.000000  37850.000000  37850.000000   \n",
       "mean    -278.474927     -0.707966      3.292404     -0.244173      0.823529   \n",
       "std      129.132680     57.130225     40.677968      0.413588      0.840990   \n",
       "min    -1024.000000   -270.000000   -218.500000     -2.067000     -1.107600   \n",
       "25%     -323.375000    -30.500000    -22.000000     -0.475800      0.327600   \n",
       "50%     -279.500000     -1.000000      4.500000     -0.187200      0.678600   \n",
       "75%     -213.000000     33.500000     30.000000      0.000000      1.115400   \n",
       "max      227.500000    208.500000    164.000000      0.912600      3.985800   \n",
       "\n",
       "                a_z  \n",
       "count  37850.000000  \n",
       "mean       0.404672  \n",
       "std        0.590413  \n",
       "min       -1.326000  \n",
       "25%        0.046800  \n",
       "50%        0.522600  \n",
       "75%        0.787800  \n",
       "max        2.394600  "
      ]
     },
     "execution_count": 528,
     "metadata": {},
     "output_type": "execute_result"
    }
   ],
   "source": [
    "data.describe()"
   ]
  },
  {
   "cell_type": "code",
   "execution_count": 530,
   "id": "3e828149",
   "metadata": {},
   "outputs": [
    {
     "data": {
      "text/html": [
       "<div>\n",
       "<style scoped>\n",
       "    .dataframe tbody tr th:only-of-type {\n",
       "        vertical-align: middle;\n",
       "    }\n",
       "\n",
       "    .dataframe tbody tr th {\n",
       "        vertical-align: top;\n",
       "    }\n",
       "\n",
       "    .dataframe thead th {\n",
       "        text-align: right;\n",
       "    }\n",
       "</style>\n",
       "<table border=\"1\" class=\"dataframe\">\n",
       "  <thead>\n",
       "    <tr style=\"text-align: right;\">\n",
       "      <th></th>\n",
       "      <th>BPM0</th>\n",
       "      <th>Labels</th>\n",
       "    </tr>\n",
       "  </thead>\n",
       "  <tbody>\n",
       "    <tr>\n",
       "      <th>0</th>\n",
       "      <td>84.745763</td>\n",
       "      <td>1</td>\n",
       "    </tr>\n",
       "    <tr>\n",
       "      <th>1</th>\n",
       "      <td>89.771491</td>\n",
       "      <td>0</td>\n",
       "    </tr>\n",
       "    <tr>\n",
       "      <th>2</th>\n",
       "      <td>92.592593</td>\n",
       "      <td>1</td>\n",
       "    </tr>\n",
       "    <tr>\n",
       "      <th>3</th>\n",
       "      <td>88.996764</td>\n",
       "      <td>1</td>\n",
       "    </tr>\n",
       "    <tr>\n",
       "      <th>4</th>\n",
       "      <td>84.364454</td>\n",
       "      <td>0</td>\n",
       "    </tr>\n",
       "    <tr>\n",
       "      <th>...</th>\n",
       "      <td>...</td>\n",
       "      <td>...</td>\n",
       "    </tr>\n",
       "    <tr>\n",
       "      <th>143</th>\n",
       "      <td>141.509434</td>\n",
       "      <td>1</td>\n",
       "    </tr>\n",
       "    <tr>\n",
       "      <th>144</th>\n",
       "      <td>140.332640</td>\n",
       "      <td>1</td>\n",
       "    </tr>\n",
       "    <tr>\n",
       "      <th>145</th>\n",
       "      <td>138.461538</td>\n",
       "      <td>1</td>\n",
       "    </tr>\n",
       "    <tr>\n",
       "      <th>146</th>\n",
       "      <td>136.802575</td>\n",
       "      <td>1</td>\n",
       "    </tr>\n",
       "    <tr>\n",
       "      <th>147</th>\n",
       "      <td>135.206787</td>\n",
       "      <td>1</td>\n",
       "    </tr>\n",
       "  </tbody>\n",
       "</table>\n",
       "<p>148 rows × 2 columns</p>\n",
       "</div>"
      ],
      "text/plain": [
       "           BPM0  Labels\n",
       "0     84.745763       1\n",
       "1     89.771491       0\n",
       "2     92.592593       1\n",
       "3     88.996764       1\n",
       "4     84.364454       0\n",
       "..          ...     ...\n",
       "143  141.509434       1\n",
       "144  140.332640       1\n",
       "145  138.461538       1\n",
       "146  136.802575       1\n",
       "147  135.206787       1\n",
       "\n",
       "[148 rows x 2 columns]"
      ]
     },
     "execution_count": 530,
     "metadata": {},
     "output_type": "execute_result"
    }
   ],
   "source": [
    "#load and merge BPM0 and Labels data\n",
    "url_bpmo='Exercise 1/True BPM/Group 1/DATA_2_TYPE02_BPMtrace'\n",
    "features_struct = scipy.io.loadmat(url_bpmo)\n",
    "features = features_struct['BPM0']\n",
    "dfBPM0 = pd.DataFrame(features)\n",
    "dfBPM0.rename(columns={0:'BPM0'}, inplace = True)\n",
    "      \n",
    "url_label='Exercise 1/Labels/Group 1/Labels_DATA_2_TYPE02'\n",
    "features_struct = scipy.io.loadmat(url_label)\n",
    "features = features_struct['Labels']\n",
    "dfLabels = pd.DataFrame(features)\n",
    "dfLabels.rename(columns={0:'Labels'}, inplace = True)\n",
    "        \n",
    "result=pd.concat([dfBPM0,dfLabels], axis=1)\n",
    "result"
   ]
  },
  {
   "cell_type": "markdown",
   "id": "a0e926a8",
   "metadata": {},
   "source": [
    "## Feature engineering\n",
    "\n",
    "\n",
    "I apply a bandpass filter between 0.4 and 4 Hz on two PPG signals and then standardize the dataset. Considering that all signals were sampled at 125 Hz and the BMP value was recorded in every 8-second time window with 6-second overlapping. I create a 8-second sequence window for PPG data so that there are 125*8=1000 rows in each sequence. Some statistical values, such as mean and skewness, can be extracted from the sequence."
   ]
  },
  {
   "cell_type": "code",
   "execution_count": 411,
   "id": "37d9a2c9",
   "metadata": {},
   "outputs": [],
   "source": [
    "# Build a bandpass filter function \n",
    "def butter_bandpass(lowcut, highcut, fs, order=5):\n",
    "    nyq = 0.5 * fs\n",
    "    low = lowcut / nyq\n",
    "    high = highcut / nyq\n",
    "    b, a = butter(order, [low, high], btype='band')\n",
    "    return b, a\n",
    "\n",
    "\n",
    "def butter_bandpass_filter(data, lowcut, highcut, fs, order=5):\n",
    "    b, a = butter_bandpass(lowcut, highcut, fs, order=order)\n",
    "    y = lfilter(b, a, data)\n",
    "    return y"
   ]
  },
  {
   "cell_type": "code",
   "execution_count": 412,
   "id": "90dcc691",
   "metadata": {},
   "outputs": [
    {
     "data": {
      "text/plain": [
       "(0.0, 6.0, 0.0, 1000000.0)"
      ]
     },
     "execution_count": 412,
     "metadata": {},
     "output_type": "execute_result"
    },
    {
     "data": {
      "image/png": "[encoded data removed]",
      "text/plain": [
       "<Figure size 504x288 with 2 Axes>"
      ]
     },
     "metadata": {
      "needs_background": "light"
     },
     "output_type": "display_data"
    }
   ],
   "source": [
    "# An example to show the results of before and after applying bandpass filter\n",
    "features_struct = scipy.io.loadmat('Exercise 1/PPG data/Group 1/DATA_12_TYPE02.mat') \n",
    "features = features_struct['sig']\n",
    "data = pd.DataFrame(features).T\n",
    "\n",
    "x1=data.loc[:,1]\n",
    "x2=data.loc[:,2]\n",
    "\n",
    "fs = 125.\n",
    "\n",
    "plt.subplot(2,1,1)\n",
    "hat_x1 = rfft(x1)\n",
    "freqs = rfftfreq(x1.size, 1 / fs)\n",
    "plt.plot(freqs, abs(hat_x1), 'b',linewidth=0.5,label='Orignal PPG1 Signal')\n",
    "\n",
    "lowcut, highcut = 0.4, 4.\n",
    "x1 = butter_bandpass_filter(x1, lowcut, highcut, fs, order=4)\n",
    "hat_x1_fil = rfft(x1)\n",
    "plt.plot(freqs, abs(hat_x1_fil), 'r',linewidth=0.5,label='Filtered PPG1 Signal')\n",
    "\n",
    "\n",
    "plt.xlabel('Frequence (HZ)')\n",
    "plt.legend()\n",
    "x_min, x_max, y_min, y_max = 0, 6, 0, 1e6\n",
    "plt.axis([x_min, x_max, y_min, y_max])\n",
    "\n",
    "\n",
    "plt.subplot(2,1,2)\n",
    "\n",
    "hat_x2 = rfft(x2)\n",
    "freqs = rfftfreq(x2.size, 1 / fs)\n",
    "plt.plot(freqs, abs(hat_x2), 'b',linewidth=0.5, label='Orignal PPG2 Signal')\n",
    "\n",
    "lowcut, highcut = 0.4, 4.\n",
    "x2 = butter_bandpass_filter(x2, lowcut, highcut, fs, order=4)\n",
    "hat_x2_fil = rfft(x2)\n",
    "plt.plot(freqs, abs(hat_x2_fil), 'r',linewidth=0.5,label='Filtered PPG2 Signal')\n",
    "\n",
    "\n",
    "plt.xlabel('Frequence (HZ)')\n",
    "plt.legend()\n",
    "x_min, x_max, y_min, y_max = 0, 6, 0, 1e6\n",
    "plt.axis([x_min, x_max, y_min, y_max])"
   ]
  },
  {
   "cell_type": "code",
   "execution_count": 413,
   "id": "2610f762",
   "metadata": {},
   "outputs": [],
   "source": [
    "#Build a sequence function. Extract specific computational features for each sequence, such as mean, skewness.\n",
    "def create_sequences(input_data, sequence_length, sliding_length):\n",
    "    result = []\n",
    "    data_size = len(input_data)\n",
    "    for i in tqdm(range(0,data_size - sequence_length, sliding_length)):\n",
    "        sequence = input_data[i:i+sequence_length]\n",
    "        avg_PPG1=np.mean(sequence['PPG1'])\n",
    "        avg_PPG2=np.mean(sequence['PPG2'])\n",
    "        \n",
    "        skewness_PPG1=skew(sequence['PPG1'])\n",
    "        skewness_PPG2=skew(sequence['PPG2'])\n",
    "        skewness_ax=skew(sequence['a_x'])\n",
    "        skewness_ay=skew(sequence['a_y'])\n",
    "        skewness_az=skew(sequence['a_z'])\n",
    "        \n",
    "        ExType=np.mean(sequence['ExType'])\n",
    "        Person=np.mean(sequence['Person'])\n",
    "        \n",
    "        \n",
    "               \n",
    "        result.append((avg_PPG1,avg_PPG2,\n",
    "                      skewness_PPG1,skewness_PPG2,skewness_ax,skewness_ay,skewness_az,\n",
    "                      ExType,Person))\n",
    "    return result"
   ]
  },
  {
   "cell_type": "markdown",
   "id": "6eee25cc",
   "metadata": {},
   "source": [
    "## Create my dataset\n",
    "\n",
    "In this part, I pack all the function to load, combine and merge all data to create one integrated dataset."
   ]
  },
  {
   "cell_type": "markdown",
   "id": "d8887f17",
   "metadata": {},
   "source": [
    "### Group 1 "
   ]
  },
  {
   "cell_type": "code",
   "execution_count": 533,
   "id": "3ad5e76d",
   "metadata": {},
   "outputs": [],
   "source": [
    "BPM0_Labels_group1= pd.DataFrame(columns=['BPM0', 'Labels'])\n",
    "for i in range(2,13):\n",
    "    if i==4 or i==11:\n",
    "        url_bpmo='Exercise 1/True BPM/Group 1/DATA_{}_TYPE02_BPMtrace'.format(i)\n",
    "        features_struct = scipy.io.loadmat(url_bpmo)\n",
    "        features = features_struct['BPM0']\n",
    "        dfBPM0 = pd.DataFrame(features)\n",
    "        dfBPM0.rename(columns={0:'BPM0'}, inplace = True)\n",
    "        dfBPM0.drop([len(dfBPM0)-1],inplace=True)\n",
    "\n",
    "      \n",
    "        url_label='Exercise 1/Labels/Group 1/Labels_DATA_{}_TYPE02'.format(i)\n",
    "        features_struct = scipy.io.loadmat(url_label)\n",
    "        features = features_struct['Labels']\n",
    "        dfLabels = pd.DataFrame(features)\n",
    "        dfLabels.rename(columns={0:'Labels'}, inplace = True)\n",
    "        dfLabels.drop([len(dfLabels)-1],inplace=True)\n",
    "        \n",
    "        \n",
    "        result=pd.concat([dfBPM0,dfLabels], axis=1)\n",
    "       # print(len(result))\n",
    "        BPM0_Labels_group1=pd.concat([BPM0_Labels_group1,result])\n",
    "    else:\n",
    "        url_bpmo='Exercise 1/True BPM/Group 1/DATA_{}_TYPE02_BPMtrace'.format(i)\n",
    "        features_struct = scipy.io.loadmat(url_bpmo)\n",
    "        features = features_struct['BPM0']\n",
    "        dfBPM0 = pd.DataFrame(features)\n",
    "        dfBPM0.rename(columns={0:'BPM0'}, inplace = True)\n",
    "      \n",
    "        url_label='Exercise 1/Labels/Group 1/Labels_DATA_{}_TYPE02'.format(i)\n",
    "        features_struct = scipy.io.loadmat(url_label)\n",
    "        features = features_struct['Labels']\n",
    "        dfLabels = pd.DataFrame(features)\n",
    "        dfLabels.rename(columns={0:'Labels'}, inplace = True)\n",
    "        \n",
    "        result=pd.concat([dfBPM0,dfLabels], axis=1)\n",
    "       # print(len(result))\n",
    "        BPM0_Labels_group1=pd.concat([BPM0_Labels_group1,result])\n",
    "\n",
    "        "
   ]
  },
  {
   "cell_type": "code",
   "execution_count": 415,
   "id": "5e677a54",
   "metadata": {},
   "outputs": [
    {
     "data": {
      "application/vnd.jupyter.widget-view+json": {
       "model_id": "93261d660caa43a491c5e86e0ab70546",
       "version_major": 2,
       "version_minor": 0
      },
      "text/plain": [
       "  0%|          | 0/148 [00:00<?, ?it/s]"
      ]
     },
     "metadata": {},
     "output_type": "display_data"
    },
    {
     "data": {
      "application/vnd.jupyter.widget-view+json": {
       "model_id": "90a0513acc2b4bcab9450f3ee61e20ee",
       "version_major": 2,
       "version_minor": 0
      },
      "text/plain": [
       "  0%|          | 0/140 [00:00<?, ?it/s]"
      ]
     },
     "metadata": {},
     "output_type": "display_data"
    },
    {
     "data": {
      "application/vnd.jupyter.widget-view+json": {
       "model_id": "550796f2496e4a6893266c1d63c33638",
       "version_major": 2,
       "version_minor": 0
      },
      "text/plain": [
       "  0%|          | 0/145 [00:00<?, ?it/s]"
      ]
     },
     "metadata": {},
     "output_type": "display_data"
    },
    {
     "data": {
      "application/vnd.jupyter.widget-view+json": {
       "model_id": "5b4eb53c1fd241afb8171053e852eff9",
       "version_major": 2,
       "version_minor": 0
      },
      "text/plain": [
       "  0%|          | 0/146 [00:00<?, ?it/s]"
      ]
     },
     "metadata": {},
     "output_type": "display_data"
    },
    {
     "data": {
      "application/vnd.jupyter.widget-view+json": {
       "model_id": "ea0d4ab73eab40ae93c37f5a9c9a466e",
       "version_major": 2,
       "version_minor": 0
      },
      "text/plain": [
       "  0%|          | 0/150 [00:00<?, ?it/s]"
      ]
     },
     "metadata": {},
     "output_type": "display_data"
    },
    {
     "data": {
      "application/vnd.jupyter.widget-view+json": {
       "model_id": "f6c5de7448504d2c9dd54317c0580901",
       "version_major": 2,
       "version_minor": 0
      },
      "text/plain": [
       "  0%|          | 0/143 [00:00<?, ?it/s]"
      ]
     },
     "metadata": {},
     "output_type": "display_data"
    },
    {
     "data": {
      "application/vnd.jupyter.widget-view+json": {
       "model_id": "3cf48707d2c449f288cd5ada2899ded0",
       "version_major": 2,
       "version_minor": 0
      },
      "text/plain": [
       "  0%|          | 0/160 [00:00<?, ?it/s]"
      ]
     },
     "metadata": {},
     "output_type": "display_data"
    },
    {
     "data": {
      "application/vnd.jupyter.widget-view+json": {
       "model_id": "332aa696894f476c9c0dc1e58e93ea46",
       "version_major": 2,
       "version_minor": 0
      },
      "text/plain": [
       "  0%|          | 0/149 [00:00<?, ?it/s]"
      ]
     },
     "metadata": {},
     "output_type": "display_data"
    },
    {
     "data": {
      "application/vnd.jupyter.widget-view+json": {
       "model_id": "297fecee43754c9f879391d0f06dc27a",
       "version_major": 2,
       "version_minor": 0
      },
      "text/plain": [
       "  0%|          | 0/149 [00:00<?, ?it/s]"
      ]
     },
     "metadata": {},
     "output_type": "display_data"
    },
    {
     "data": {
      "application/vnd.jupyter.widget-view+json": {
       "model_id": "2014d05d75d84b5bb8e350c76b144147",
       "version_major": 2,
       "version_minor": 0
      },
      "text/plain": [
       "  0%|          | 0/142 [00:00<?, ?it/s]"
      ]
     },
     "metadata": {},
     "output_type": "display_data"
    },
    {
     "data": {
      "application/vnd.jupyter.widget-view+json": {
       "model_id": "02b488f1606341e09e73d9c790ce29d2",
       "version_major": 2,
       "version_minor": 0
      },
      "text/plain": [
       "  0%|          | 0/146 [00:00<?, ?it/s]"
      ]
     },
     "metadata": {},
     "output_type": "display_data"
    }
   ],
   "source": [
    "PPG_data_group1 = pd.DataFrame(columns=['avg_PPG1', 'avg_PPG2', 'skewness_PPG1','skewness_PPG2','skewness_ax',\n",
    "                              'skewness_ay','skewness_az','ExType','Person'])\n",
    "for i in range(2,13):\n",
    "        url='Exercise 1/PPG data/Group 1/DATA_{}_TYPE02.mat'.format(i)\n",
    "        features_struct = scipy.io.loadmat(url)\n",
    "        features = features_struct['sig']\n",
    "        dfdata = pd.DataFrame(features)\n",
    "        data=dfdata.T\n",
    "        data.rename(columns={0:'ECG', 1:'PPG1', 2:'PPG2',3:'a_x',4:'a_y',5:'a_z'}, inplace = True)\n",
    "       \n",
    "        #bandpass\n",
    "        x1=data.loc[:,'PPG1']\n",
    "        x2=data.loc[:,'PPG2']\n",
    "        lowcut, highcut,fs = 0.4, 4.,125.\n",
    "        x1 = butter_bandpass_filter(x1, lowcut, highcut, fs, order=4)\n",
    "        x2 = butter_bandpass_filter(x2, lowcut, highcut, fs, order=4)\n",
    "        data['PPG1']=x1\n",
    "        data['PPG2']=x2\n",
    "        \n",
    "        #standardize PPG data\n",
    "        data = (data-data.mean())/data.std() \n",
    "        \n",
    "        #create Person ID,Excersice Type\n",
    "        data['ExType']=1\n",
    "        data['Person']=i\n",
    "        \n",
    "        #create sequence for every 8 seconds, calculate the feature in each sequence.\n",
    "        data_sequences = create_sequences(data, 125*8, 125*2)\n",
    "        \n",
    "        #convert to dataframe and rename the features' name.\n",
    "        data_clean=pd.DataFrame(data_sequences)\n",
    "        data_clean.rename(columns={0:'avg_PPG1', 1:'avg_PPG2', \n",
    "                                   2:'skewness_PPG1',3:'skewness_PPG2',4:'skewness_ax', 5:'skewness_ay', 6:'skewness_az',\n",
    "                                   7:'ExType',8:'Person'}, inplace = True)\n",
    "        #data_clean.rename(columns={0:'avg1', 1:'avg2'})\n",
    "\n",
    "        PPG_data_group1=pd.concat([PPG_data_group1,data_clean])\n"
   ]
  },
  {
   "cell_type": "code",
   "execution_count": 417,
   "id": "8f61d40f",
   "metadata": {},
   "outputs": [],
   "source": [
    "PPG_data_group1=PPG_data_group1.reset_index()\n",
    "BPM0_Labels_group1=BPM0_Labels_group1.reset_index()\n",
    "data_group1= pd.merge(PPG_data_group1, BPM0_Labels_group1, left_index=True, right_index=True)\n",
    "data_group1=data_group1.drop(['index_x', 'index_y'], axis=1)"
   ]
  },
  {
   "cell_type": "code",
   "execution_count": 418,
   "id": "b509830a",
   "metadata": {},
   "outputs": [
    {
     "data": {
      "text/html": [
       "<div>\n",
       "<style scoped>\n",
       "    .dataframe tbody tr th:only-of-type {\n",
       "        vertical-align: middle;\n",
       "    }\n",
       "\n",
       "    .dataframe tbody tr th {\n",
       "        vertical-align: top;\n",
       "    }\n",
       "\n",
       "    .dataframe thead th {\n",
       "        text-align: right;\n",
       "    }\n",
       "</style>\n",
       "<table border=\"1\" class=\"dataframe\">\n",
       "  <thead>\n",
       "    <tr style=\"text-align: right;\">\n",
       "      <th></th>\n",
       "      <th>avg_PPG1</th>\n",
       "      <th>avg_PPG2</th>\n",
       "      <th>skewness_PPG1</th>\n",
       "      <th>skewness_PPG2</th>\n",
       "      <th>skewness_ax</th>\n",
       "      <th>skewness_ay</th>\n",
       "      <th>skewness_az</th>\n",
       "      <th>ExType</th>\n",
       "      <th>Person</th>\n",
       "      <th>BPM0</th>\n",
       "      <th>Labels</th>\n",
       "    </tr>\n",
       "  </thead>\n",
       "  <tbody>\n",
       "    <tr>\n",
       "      <th>0</th>\n",
       "      <td>-0.003816</td>\n",
       "      <td>0.014058</td>\n",
       "      <td>0.219015</td>\n",
       "      <td>1.578261</td>\n",
       "      <td>1.587511</td>\n",
       "      <td>0.988141</td>\n",
       "      <td>-1.849938</td>\n",
       "      <td>1.0</td>\n",
       "      <td>2.0</td>\n",
       "      <td>84.745763</td>\n",
       "      <td>1</td>\n",
       "    </tr>\n",
       "    <tr>\n",
       "      <th>1</th>\n",
       "      <td>0.024221</td>\n",
       "      <td>-0.006587</td>\n",
       "      <td>0.091629</td>\n",
       "      <td>0.351287</td>\n",
       "      <td>1.219255</td>\n",
       "      <td>0.749639</td>\n",
       "      <td>-1.547673</td>\n",
       "      <td>1.0</td>\n",
       "      <td>2.0</td>\n",
       "      <td>89.771491</td>\n",
       "      <td>0</td>\n",
       "    </tr>\n",
       "    <tr>\n",
       "      <th>2</th>\n",
       "      <td>-0.011707</td>\n",
       "      <td>-0.002878</td>\n",
       "      <td>0.191656</td>\n",
       "      <td>0.267740</td>\n",
       "      <td>1.264487</td>\n",
       "      <td>1.011613</td>\n",
       "      <td>-1.733567</td>\n",
       "      <td>1.0</td>\n",
       "      <td>2.0</td>\n",
       "      <td>92.592593</td>\n",
       "      <td>1</td>\n",
       "    </tr>\n",
       "    <tr>\n",
       "      <th>3</th>\n",
       "      <td>-0.015859</td>\n",
       "      <td>-0.005135</td>\n",
       "      <td>0.394270</td>\n",
       "      <td>0.242040</td>\n",
       "      <td>1.208146</td>\n",
       "      <td>0.952046</td>\n",
       "      <td>-1.704713</td>\n",
       "      <td>1.0</td>\n",
       "      <td>2.0</td>\n",
       "      <td>88.996764</td>\n",
       "      <td>1</td>\n",
       "    </tr>\n",
       "    <tr>\n",
       "      <th>4</th>\n",
       "      <td>0.024076</td>\n",
       "      <td>-0.009483</td>\n",
       "      <td>0.290403</td>\n",
       "      <td>-0.147928</td>\n",
       "      <td>1.446360</td>\n",
       "      <td>1.352678</td>\n",
       "      <td>-1.958540</td>\n",
       "      <td>1.0</td>\n",
       "      <td>2.0</td>\n",
       "      <td>84.364454</td>\n",
       "      <td>0</td>\n",
       "    </tr>\n",
       "    <tr>\n",
       "      <th>...</th>\n",
       "      <td>...</td>\n",
       "      <td>...</td>\n",
       "      <td>...</td>\n",
       "      <td>...</td>\n",
       "      <td>...</td>\n",
       "      <td>...</td>\n",
       "      <td>...</td>\n",
       "      <td>...</td>\n",
       "      <td>...</td>\n",
       "      <td>...</td>\n",
       "      <td>...</td>\n",
       "    </tr>\n",
       "    <tr>\n",
       "      <th>1613</th>\n",
       "      <td>-0.001295</td>\n",
       "      <td>-0.003358</td>\n",
       "      <td>0.035671</td>\n",
       "      <td>-0.073319</td>\n",
       "      <td>0.363141</td>\n",
       "      <td>1.072499</td>\n",
       "      <td>-0.888732</td>\n",
       "      <td>1.0</td>\n",
       "      <td>12.0</td>\n",
       "      <td>159.066800</td>\n",
       "      <td>1</td>\n",
       "    </tr>\n",
       "    <tr>\n",
       "      <th>1614</th>\n",
       "      <td>-0.001006</td>\n",
       "      <td>-0.001752</td>\n",
       "      <td>0.046118</td>\n",
       "      <td>-0.003185</td>\n",
       "      <td>0.214388</td>\n",
       "      <td>-0.129224</td>\n",
       "      <td>1.096826</td>\n",
       "      <td>1.0</td>\n",
       "      <td>12.0</td>\n",
       "      <td>157.397700</td>\n",
       "      <td>1</td>\n",
       "    </tr>\n",
       "    <tr>\n",
       "      <th>1615</th>\n",
       "      <td>-0.001446</td>\n",
       "      <td>-0.005481</td>\n",
       "      <td>0.052955</td>\n",
       "      <td>0.161699</td>\n",
       "      <td>0.112810</td>\n",
       "      <td>0.059708</td>\n",
       "      <td>1.208456</td>\n",
       "      <td>1.0</td>\n",
       "      <td>12.0</td>\n",
       "      <td>156.250000</td>\n",
       "      <td>1</td>\n",
       "    </tr>\n",
       "    <tr>\n",
       "      <th>1616</th>\n",
       "      <td>0.004975</td>\n",
       "      <td>0.002917</td>\n",
       "      <td>0.001592</td>\n",
       "      <td>0.059514</td>\n",
       "      <td>0.130190</td>\n",
       "      <td>0.034907</td>\n",
       "      <td>1.292304</td>\n",
       "      <td>1.0</td>\n",
       "      <td>12.0</td>\n",
       "      <td>155.440400</td>\n",
       "      <td>1</td>\n",
       "    </tr>\n",
       "    <tr>\n",
       "      <th>1617</th>\n",
       "      <td>0.003471</td>\n",
       "      <td>0.005225</td>\n",
       "      <td>0.021879</td>\n",
       "      <td>0.080827</td>\n",
       "      <td>0.114303</td>\n",
       "      <td>0.513305</td>\n",
       "      <td>0.831214</td>\n",
       "      <td>1.0</td>\n",
       "      <td>12.0</td>\n",
       "      <td>154.004100</td>\n",
       "      <td>1</td>\n",
       "    </tr>\n",
       "  </tbody>\n",
       "</table>\n",
       "<p>1618 rows × 11 columns</p>\n",
       "</div>"
      ],
      "text/plain": [
       "      avg_PPG1  avg_PPG2  skewness_PPG1  skewness_PPG2  skewness_ax  \\\n",
       "0    -0.003816  0.014058       0.219015       1.578261     1.587511   \n",
       "1     0.024221 -0.006587       0.091629       0.351287     1.219255   \n",
       "2    -0.011707 -0.002878       0.191656       0.267740     1.264487   \n",
       "3    -0.015859 -0.005135       0.394270       0.242040     1.208146   \n",
       "4     0.024076 -0.009483       0.290403      -0.147928     1.446360   \n",
       "...        ...       ...            ...            ...          ...   \n",
       "1613 -0.001295 -0.003358       0.035671      -0.073319     0.363141   \n",
       "1614 -0.001006 -0.001752       0.046118      -0.003185     0.214388   \n",
       "1615 -0.001446 -0.005481       0.052955       0.161699     0.112810   \n",
       "1616  0.004975  0.002917       0.001592       0.059514     0.130190   \n",
       "1617  0.003471  0.005225       0.021879       0.080827     0.114303   \n",
       "\n",
       "      skewness_ay  skewness_az  ExType  Person        BPM0 Labels  \n",
       "0        0.988141    -1.849938     1.0     2.0   84.745763      1  \n",
       "1        0.749639    -1.547673     1.0     2.0   89.771491      0  \n",
       "2        1.011613    -1.733567     1.0     2.0   92.592593      1  \n",
       "3        0.952046    -1.704713     1.0     2.0   88.996764      1  \n",
       "4        1.352678    -1.958540     1.0     2.0   84.364454      0  \n",
       "...           ...          ...     ...     ...         ...    ...  \n",
       "1613     1.072499    -0.888732     1.0    12.0  159.066800      1  \n",
       "1614    -0.129224     1.096826     1.0    12.0  157.397700      1  \n",
       "1615     0.059708     1.208456     1.0    12.0  156.250000      1  \n",
       "1616     0.034907     1.292304     1.0    12.0  155.440400      1  \n",
       "1617     0.513305     0.831214     1.0    12.0  154.004100      1  \n",
       "\n",
       "[1618 rows x 11 columns]"
      ]
     },
     "execution_count": 418,
     "metadata": {},
     "output_type": "execute_result"
    }
   ],
   "source": [
    "data_group1"
   ]
  },
  {
   "cell_type": "markdown",
   "id": "4167486b",
   "metadata": {},
   "source": [
    "### Group 2"
   ]
  },
  {
   "cell_type": "code",
   "execution_count": 534,
   "id": "58151efe",
   "metadata": {},
   "outputs": [],
   "source": [
    "BPM0_Labels_group2= pd.DataFrame(columns=['BPM0', 'Labels'])\n",
    "for i in range(2,8):\n",
    "    if i==4:\n",
    "        url_bpmo='Exercise 1/True BPM/Group 2/True_S0{}_T02'.format(i)\n",
    "        features_struct = scipy.io.loadmat(url_bpmo)\n",
    "        features = features_struct['BPM0']\n",
    "        dfBPM0 = pd.DataFrame(features)\n",
    "        dfBPM0.rename(columns={0:'BPM0'}, inplace = True)\n",
    "        dfBPM0.drop([len(dfBPM0)-1],inplace=True)\n",
    "\n",
    "      \n",
    "        url_label='Exercise 1/Labels/Group 2/Labels_TEST_S0{}_T02'.format(i)\n",
    "        features_struct = scipy.io.loadmat(url_label)\n",
    "        features = features_struct['Labels']\n",
    "        dfLabels = pd.DataFrame(features)\n",
    "        dfLabels.rename(columns={0:'Labels'}, inplace = True)\n",
    "        dfLabels.drop([len(dfLabels)-1],inplace=True)\n",
    "        \n",
    "        \n",
    "        result=pd.concat([dfBPM0,dfLabels], axis=1)\n",
    "        #print(len(dfBPM0))\n",
    "        BPM0_Labels_group2=pd.concat([BPM0_Labels_group2,result])\n",
    "    else:\n",
    "        url_bpmo='Exercise 1/True BPM/Group 2/True_S0{}_T02'.format(i)\n",
    "        features_struct = scipy.io.loadmat(url_bpmo)\n",
    "        features = features_struct['BPM0']\n",
    "        dfBPM0 = pd.DataFrame(features)\n",
    "        dfBPM0.rename(columns={0:'BPM0'}, inplace = True)\n",
    "\n",
    "      \n",
    "        url_label='Exercise 1/Labels/Group 2/Labels_TEST_S0{}_T02'.format(i)\n",
    "        features_struct = scipy.io.loadmat(url_label)\n",
    "        features = features_struct['Labels']\n",
    "        dfLabels = pd.DataFrame(features)\n",
    "        dfLabels.rename(columns={0:'Labels'}, inplace = True)\n",
    "        \n",
    "        \n",
    "        result=pd.concat([dfBPM0,dfLabels], axis=1)\n",
    "        #print(len(dfBPM0))\n",
    "        BPM0_Labels_group2=pd.concat([BPM0_Labels_group2,result])\n",
    "    \n",
    "    "
   ]
  },
  {
   "cell_type": "code",
   "execution_count": 420,
   "id": "947a3008",
   "metadata": {},
   "outputs": [
    {
     "data": {
      "application/vnd.jupyter.widget-view+json": {
       "model_id": "7ac627795b3a42d4a12108ded06e71b8",
       "version_major": 2,
       "version_minor": 0
      },
      "text/plain": [
       "  0%|          | 0/144 [00:00<?, ?it/s]"
      ]
     },
     "metadata": {},
     "output_type": "display_data"
    },
    {
     "data": {
      "application/vnd.jupyter.widget-view+json": {
       "model_id": "1944fa3e3b1c45b98f902357d35478d3",
       "version_major": 2,
       "version_minor": 0
      },
      "text/plain": [
       "  0%|          | 0/152 [00:00<?, ?it/s]"
      ]
     },
     "metadata": {},
     "output_type": "display_data"
    },
    {
     "data": {
      "application/vnd.jupyter.widget-view+json": {
       "model_id": "1e35743f5bc0468bae63bec53add1545",
       "version_major": 2,
       "version_minor": 0
      },
      "text/plain": [
       "  0%|          | 0/100 [00:00<?, ?it/s]"
      ]
     },
     "metadata": {},
     "output_type": "display_data"
    },
    {
     "data": {
      "application/vnd.jupyter.widget-view+json": {
       "model_id": "577f74541ce9499e85abab311160aadf",
       "version_major": 2,
       "version_minor": 0
      },
      "text/plain": [
       "  0%|          | 0/157 [00:00<?, ?it/s]"
      ]
     },
     "metadata": {},
     "output_type": "display_data"
    },
    {
     "data": {
      "application/vnd.jupyter.widget-view+json": {
       "model_id": "9603a38b3948479f95bab08664f3175c",
       "version_major": 2,
       "version_minor": 0
      },
      "text/plain": [
       "  0%|          | 0/142 [00:00<?, ?it/s]"
      ]
     },
     "metadata": {},
     "output_type": "display_data"
    },
    {
     "data": {
      "application/vnd.jupyter.widget-view+json": {
       "model_id": "d0542d8d316a47ca8fe66b98cc26adbc",
       "version_major": 2,
       "version_minor": 0
      },
      "text/plain": [
       "  0%|          | 0/121 [00:00<?, ?it/s]"
      ]
     },
     "metadata": {},
     "output_type": "display_data"
    }
   ],
   "source": [
    "PPG_data_group2 = pd.DataFrame(columns=['avg_PPG1', 'avg_PPG2', 'skewness_PPG1','skewness_PPG2','skewness_ax',\n",
    "                              'skewness_ay','skewness_az','ExType','Person'])\n",
    "for i in range(2,8):\n",
    "        url='Exercise 1/PPG data/Group 2/TEST_S0{}_T02'.format(i)\n",
    "        features_struct = scipy.io.loadmat(url)\n",
    "        features = features_struct['sig']\n",
    "        dfdata = pd.DataFrame(features)\n",
    "        data=dfdata.T\n",
    "        data.rename(columns={0:'PPG1', 1:'PPG2',2:'a_x',3:'a_y',4:'a_z'}, inplace = True)\n",
    "       \n",
    "        \n",
    "        x1=data.loc[:,'PPG1']\n",
    "        x2=data.loc[:,'PPG2']\n",
    "        lowcut, highcut,fs = 0.4, 4.,125.\n",
    "        x1 = butter_bandpass_filter(x1, lowcut, highcut, fs, order=4)\n",
    "        x2 = butter_bandpass_filter(x2, lowcut, highcut, fs, order=4)\n",
    "        data['PPG1']=x1\n",
    "        data['PPG2']=x2\n",
    "        \n",
    "        data = (data-data.mean())/data.std() \n",
    "        \n",
    "        data['ExType']=2\n",
    "        data['Person']=i+11\n",
    "        \n",
    "        data_sequences = create_sequences(data, 125*8, 125*2)\n",
    "        \n",
    "        data_clean=pd.DataFrame(data_sequences)\n",
    "        data_clean.rename(columns={0:'avg_PPG1', 1:'avg_PPG2',\n",
    "                                   2:'skewness_PPG1',3:'skewness_PPG2',4:'skewness_ax', 5:'skewness_ay', 6:'skewness_az',\n",
    "                                   7:'ExType',8:'Person'}, inplace = True)\n",
    "        #data_clean.rename(columns={0:'avg1', 1:'avg2'})\n",
    "\n",
    "        PPG_data_group2=pd.concat([PPG_data_group2,data_clean])\n"
   ]
  },
  {
   "cell_type": "code",
   "execution_count": 531,
   "id": "48651518",
   "metadata": {},
   "outputs": [],
   "source": [
    "PPG_data_group2=PPG_data_group2.reset_index()\n",
    "BPM0_Labels_group2=BPM0_Labels_group2.reset_index()\n",
    "data_group2= pd.merge(PPG_data_group2, BPM0_Labels_group2, left_index=True, right_index=True)\n",
    "data_group2=data_group2.drop(['index_x', 'index_y'], axis=1)\n"
   ]
  },
  {
   "cell_type": "code",
   "execution_count": 424,
   "id": "c15c5d80",
   "metadata": {},
   "outputs": [],
   "source": [
    "data_group12= pd.concat([data_group1,data_group2])\n",
    "#data_group12=data_group12.reset_index()\n",
    "data_group12=data_group12.reset_index().drop(['index'], axis=1)"
   ]
  },
  {
   "cell_type": "code",
   "execution_count": 425,
   "id": "944b06b6",
   "metadata": {},
   "outputs": [
    {
     "data": {
      "text/html": [
       "<div>\n",
       "<style scoped>\n",
       "    .dataframe tbody tr th:only-of-type {\n",
       "        vertical-align: middle;\n",
       "    }\n",
       "\n",
       "    .dataframe tbody tr th {\n",
       "        vertical-align: top;\n",
       "    }\n",
       "\n",
       "    .dataframe thead th {\n",
       "        text-align: right;\n",
       "    }\n",
       "</style>\n",
       "<table border=\"1\" class=\"dataframe\">\n",
       "  <thead>\n",
       "    <tr style=\"text-align: right;\">\n",
       "      <th></th>\n",
       "      <th>avg_PPG1</th>\n",
       "      <th>avg_PPG2</th>\n",
       "      <th>skewness_PPG1</th>\n",
       "      <th>skewness_PPG2</th>\n",
       "      <th>skewness_ax</th>\n",
       "      <th>skewness_ay</th>\n",
       "      <th>skewness_az</th>\n",
       "      <th>ExType</th>\n",
       "      <th>Person</th>\n",
       "      <th>BPM0</th>\n",
       "      <th>Labels</th>\n",
       "    </tr>\n",
       "  </thead>\n",
       "  <tbody>\n",
       "    <tr>\n",
       "      <th>0</th>\n",
       "      <td>-0.003816</td>\n",
       "      <td>0.014058</td>\n",
       "      <td>0.219015</td>\n",
       "      <td>1.578261</td>\n",
       "      <td>1.587511</td>\n",
       "      <td>0.988141</td>\n",
       "      <td>-1.849938</td>\n",
       "      <td>1.0</td>\n",
       "      <td>2.0</td>\n",
       "      <td>84.745763</td>\n",
       "      <td>1</td>\n",
       "    </tr>\n",
       "    <tr>\n",
       "      <th>1</th>\n",
       "      <td>0.024221</td>\n",
       "      <td>-0.006587</td>\n",
       "      <td>0.091629</td>\n",
       "      <td>0.351287</td>\n",
       "      <td>1.219255</td>\n",
       "      <td>0.749639</td>\n",
       "      <td>-1.547673</td>\n",
       "      <td>1.0</td>\n",
       "      <td>2.0</td>\n",
       "      <td>89.771491</td>\n",
       "      <td>0</td>\n",
       "    </tr>\n",
       "    <tr>\n",
       "      <th>2</th>\n",
       "      <td>-0.011707</td>\n",
       "      <td>-0.002878</td>\n",
       "      <td>0.191656</td>\n",
       "      <td>0.267740</td>\n",
       "      <td>1.264487</td>\n",
       "      <td>1.011613</td>\n",
       "      <td>-1.733567</td>\n",
       "      <td>1.0</td>\n",
       "      <td>2.0</td>\n",
       "      <td>92.592593</td>\n",
       "      <td>1</td>\n",
       "    </tr>\n",
       "    <tr>\n",
       "      <th>3</th>\n",
       "      <td>-0.015859</td>\n",
       "      <td>-0.005135</td>\n",
       "      <td>0.394270</td>\n",
       "      <td>0.242040</td>\n",
       "      <td>1.208146</td>\n",
       "      <td>0.952046</td>\n",
       "      <td>-1.704713</td>\n",
       "      <td>1.0</td>\n",
       "      <td>2.0</td>\n",
       "      <td>88.996764</td>\n",
       "      <td>1</td>\n",
       "    </tr>\n",
       "    <tr>\n",
       "      <th>4</th>\n",
       "      <td>0.024076</td>\n",
       "      <td>-0.009483</td>\n",
       "      <td>0.290403</td>\n",
       "      <td>-0.147928</td>\n",
       "      <td>1.446360</td>\n",
       "      <td>1.352678</td>\n",
       "      <td>-1.958540</td>\n",
       "      <td>1.0</td>\n",
       "      <td>2.0</td>\n",
       "      <td>84.364454</td>\n",
       "      <td>0</td>\n",
       "    </tr>\n",
       "    <tr>\n",
       "      <th>...</th>\n",
       "      <td>...</td>\n",
       "      <td>...</td>\n",
       "      <td>...</td>\n",
       "      <td>...</td>\n",
       "      <td>...</td>\n",
       "      <td>...</td>\n",
       "      <td>...</td>\n",
       "      <td>...</td>\n",
       "      <td>...</td>\n",
       "      <td>...</td>\n",
       "      <td>...</td>\n",
       "    </tr>\n",
       "    <tr>\n",
       "      <th>2429</th>\n",
       "      <td>-0.015182</td>\n",
       "      <td>-0.004634</td>\n",
       "      <td>-0.022050</td>\n",
       "      <td>0.238752</td>\n",
       "      <td>0.607440</td>\n",
       "      <td>-1.163811</td>\n",
       "      <td>0.550118</td>\n",
       "      <td>2.0</td>\n",
       "      <td>18.0</td>\n",
       "      <td>133.648000</td>\n",
       "      <td>1</td>\n",
       "    </tr>\n",
       "    <tr>\n",
       "      <th>2430</th>\n",
       "      <td>0.032827</td>\n",
       "      <td>0.023971</td>\n",
       "      <td>-0.172497</td>\n",
       "      <td>0.275110</td>\n",
       "      <td>0.602911</td>\n",
       "      <td>-1.634080</td>\n",
       "      <td>0.308280</td>\n",
       "      <td>2.0</td>\n",
       "      <td>18.0</td>\n",
       "      <td>132.890000</td>\n",
       "      <td>1</td>\n",
       "    </tr>\n",
       "    <tr>\n",
       "      <th>2431</th>\n",
       "      <td>0.034776</td>\n",
       "      <td>0.007622</td>\n",
       "      <td>-0.508196</td>\n",
       "      <td>-0.179952</td>\n",
       "      <td>0.743247</td>\n",
       "      <td>-0.455686</td>\n",
       "      <td>1.137059</td>\n",
       "      <td>2.0</td>\n",
       "      <td>18.0</td>\n",
       "      <td>132.674000</td>\n",
       "      <td>1</td>\n",
       "    </tr>\n",
       "    <tr>\n",
       "      <th>2432</th>\n",
       "      <td>-0.059685</td>\n",
       "      <td>-0.066121</td>\n",
       "      <td>-0.410366</td>\n",
       "      <td>-0.091395</td>\n",
       "      <td>0.548308</td>\n",
       "      <td>-0.197472</td>\n",
       "      <td>0.812302</td>\n",
       "      <td>2.0</td>\n",
       "      <td>18.0</td>\n",
       "      <td>133.185000</td>\n",
       "      <td>1</td>\n",
       "    </tr>\n",
       "    <tr>\n",
       "      <th>2433</th>\n",
       "      <td>0.034713</td>\n",
       "      <td>0.034176</td>\n",
       "      <td>-0.398879</td>\n",
       "      <td>-0.297217</td>\n",
       "      <td>0.385001</td>\n",
       "      <td>0.441560</td>\n",
       "      <td>0.669220</td>\n",
       "      <td>2.0</td>\n",
       "      <td>18.0</td>\n",
       "      <td>133.648000</td>\n",
       "      <td>1</td>\n",
       "    </tr>\n",
       "  </tbody>\n",
       "</table>\n",
       "<p>2434 rows × 11 columns</p>\n",
       "</div>"
      ],
      "text/plain": [
       "      avg_PPG1  avg_PPG2  skewness_PPG1  skewness_PPG2  skewness_ax  \\\n",
       "0    -0.003816  0.014058       0.219015       1.578261     1.587511   \n",
       "1     0.024221 -0.006587       0.091629       0.351287     1.219255   \n",
       "2    -0.011707 -0.002878       0.191656       0.267740     1.264487   \n",
       "3    -0.015859 -0.005135       0.394270       0.242040     1.208146   \n",
       "4     0.024076 -0.009483       0.290403      -0.147928     1.446360   \n",
       "...        ...       ...            ...            ...          ...   \n",
       "2429 -0.015182 -0.004634      -0.022050       0.238752     0.607440   \n",
       "2430  0.032827  0.023971      -0.172497       0.275110     0.602911   \n",
       "2431  0.034776  0.007622      -0.508196      -0.179952     0.743247   \n",
       "2432 -0.059685 -0.066121      -0.410366      -0.091395     0.548308   \n",
       "2433  0.034713  0.034176      -0.398879      -0.297217     0.385001   \n",
       "\n",
       "      skewness_ay  skewness_az  ExType  Person        BPM0 Labels  \n",
       "0        0.988141    -1.849938     1.0     2.0   84.745763      1  \n",
       "1        0.749639    -1.547673     1.0     2.0   89.771491      0  \n",
       "2        1.011613    -1.733567     1.0     2.0   92.592593      1  \n",
       "3        0.952046    -1.704713     1.0     2.0   88.996764      1  \n",
       "4        1.352678    -1.958540     1.0     2.0   84.364454      0  \n",
       "...           ...          ...     ...     ...         ...    ...  \n",
       "2429    -1.163811     0.550118     2.0    18.0  133.648000      1  \n",
       "2430    -1.634080     0.308280     2.0    18.0  132.890000      1  \n",
       "2431    -0.455686     1.137059     2.0    18.0  132.674000      1  \n",
       "2432    -0.197472     0.812302     2.0    18.0  133.185000      1  \n",
       "2433     0.441560     0.669220     2.0    18.0  133.648000      1  \n",
       "\n",
       "[2434 rows x 11 columns]"
      ]
     },
     "execution_count": 425,
     "metadata": {},
     "output_type": "execute_result"
    }
   ],
   "source": [
    "data_group12"
   ]
  },
  {
   "cell_type": "markdown",
   "id": "db83771f",
   "metadata": {},
   "source": [
    "## Apply machine learning models"
   ]
  },
  {
   "cell_type": "code",
   "execution_count": 426,
   "id": "5e45f9d0",
   "metadata": {},
   "outputs": [],
   "source": [
    "import copy\n",
    "new_df = copy.deepcopy(data_group12)"
   ]
  },
  {
   "cell_type": "code",
   "execution_count": 427,
   "id": "a41858a6",
   "metadata": {},
   "outputs": [],
   "source": [
    "#apply one-hot encoding on 'ExType', 'Person'\n",
    "one_hot_df = pd.get_dummies(new_df,columns=['ExType', 'Person'],drop_first=True)"
   ]
  },
  {
   "cell_type": "code",
   "execution_count": 535,
   "id": "e266d91d",
   "metadata": {},
   "outputs": [
    {
     "data": {
      "text/html": [
       "<div>\n",
       "<style scoped>\n",
       "    .dataframe tbody tr th:only-of-type {\n",
       "        vertical-align: middle;\n",
       "    }\n",
       "\n",
       "    .dataframe tbody tr th {\n",
       "        vertical-align: top;\n",
       "    }\n",
       "\n",
       "    .dataframe thead th {\n",
       "        text-align: right;\n",
       "    }\n",
       "</style>\n",
       "<table border=\"1\" class=\"dataframe\">\n",
       "  <thead>\n",
       "    <tr style=\"text-align: right;\">\n",
       "      <th></th>\n",
       "      <th>avg_PPG1</th>\n",
       "      <th>avg_PPG2</th>\n",
       "      <th>skewness_PPG1</th>\n",
       "      <th>skewness_PPG2</th>\n",
       "      <th>skewness_ax</th>\n",
       "      <th>skewness_ay</th>\n",
       "      <th>skewness_az</th>\n",
       "      <th>BPM0</th>\n",
       "      <th>Labels</th>\n",
       "      <th>ExType_2.0</th>\n",
       "      <th>...</th>\n",
       "      <th>Person_9.0</th>\n",
       "      <th>Person_10.0</th>\n",
       "      <th>Person_11.0</th>\n",
       "      <th>Person_12.0</th>\n",
       "      <th>Person_13.0</th>\n",
       "      <th>Person_14.0</th>\n",
       "      <th>Person_15.0</th>\n",
       "      <th>Person_16.0</th>\n",
       "      <th>Person_17.0</th>\n",
       "      <th>Person_18.0</th>\n",
       "    </tr>\n",
       "  </thead>\n",
       "  <tbody>\n",
       "    <tr>\n",
       "      <th>0</th>\n",
       "      <td>-0.003816</td>\n",
       "      <td>0.014058</td>\n",
       "      <td>0.219015</td>\n",
       "      <td>1.578261</td>\n",
       "      <td>1.587511</td>\n",
       "      <td>0.988141</td>\n",
       "      <td>-1.849938</td>\n",
       "      <td>84.745763</td>\n",
       "      <td>1</td>\n",
       "      <td>0</td>\n",
       "      <td>...</td>\n",
       "      <td>0</td>\n",
       "      <td>0</td>\n",
       "      <td>0</td>\n",
       "      <td>0</td>\n",
       "      <td>0</td>\n",
       "      <td>0</td>\n",
       "      <td>0</td>\n",
       "      <td>0</td>\n",
       "      <td>0</td>\n",
       "      <td>0</td>\n",
       "    </tr>\n",
       "    <tr>\n",
       "      <th>1</th>\n",
       "      <td>0.024221</td>\n",
       "      <td>-0.006587</td>\n",
       "      <td>0.091629</td>\n",
       "      <td>0.351287</td>\n",
       "      <td>1.219255</td>\n",
       "      <td>0.749639</td>\n",
       "      <td>-1.547673</td>\n",
       "      <td>89.771491</td>\n",
       "      <td>0</td>\n",
       "      <td>0</td>\n",
       "      <td>...</td>\n",
       "      <td>0</td>\n",
       "      <td>0</td>\n",
       "      <td>0</td>\n",
       "      <td>0</td>\n",
       "      <td>0</td>\n",
       "      <td>0</td>\n",
       "      <td>0</td>\n",
       "      <td>0</td>\n",
       "      <td>0</td>\n",
       "      <td>0</td>\n",
       "    </tr>\n",
       "    <tr>\n",
       "      <th>2</th>\n",
       "      <td>-0.011707</td>\n",
       "      <td>-0.002878</td>\n",
       "      <td>0.191656</td>\n",
       "      <td>0.267740</td>\n",
       "      <td>1.264487</td>\n",
       "      <td>1.011613</td>\n",
       "      <td>-1.733567</td>\n",
       "      <td>92.592593</td>\n",
       "      <td>1</td>\n",
       "      <td>0</td>\n",
       "      <td>...</td>\n",
       "      <td>0</td>\n",
       "      <td>0</td>\n",
       "      <td>0</td>\n",
       "      <td>0</td>\n",
       "      <td>0</td>\n",
       "      <td>0</td>\n",
       "      <td>0</td>\n",
       "      <td>0</td>\n",
       "      <td>0</td>\n",
       "      <td>0</td>\n",
       "    </tr>\n",
       "    <tr>\n",
       "      <th>3</th>\n",
       "      <td>-0.015859</td>\n",
       "      <td>-0.005135</td>\n",
       "      <td>0.394270</td>\n",
       "      <td>0.242040</td>\n",
       "      <td>1.208146</td>\n",
       "      <td>0.952046</td>\n",
       "      <td>-1.704713</td>\n",
       "      <td>88.996764</td>\n",
       "      <td>1</td>\n",
       "      <td>0</td>\n",
       "      <td>...</td>\n",
       "      <td>0</td>\n",
       "      <td>0</td>\n",
       "      <td>0</td>\n",
       "      <td>0</td>\n",
       "      <td>0</td>\n",
       "      <td>0</td>\n",
       "      <td>0</td>\n",
       "      <td>0</td>\n",
       "      <td>0</td>\n",
       "      <td>0</td>\n",
       "    </tr>\n",
       "    <tr>\n",
       "      <th>4</th>\n",
       "      <td>0.024076</td>\n",
       "      <td>-0.009483</td>\n",
       "      <td>0.290403</td>\n",
       "      <td>-0.147928</td>\n",
       "      <td>1.446360</td>\n",
       "      <td>1.352678</td>\n",
       "      <td>-1.958540</td>\n",
       "      <td>84.364454</td>\n",
       "      <td>0</td>\n",
       "      <td>0</td>\n",
       "      <td>...</td>\n",
       "      <td>0</td>\n",
       "      <td>0</td>\n",
       "      <td>0</td>\n",
       "      <td>0</td>\n",
       "      <td>0</td>\n",
       "      <td>0</td>\n",
       "      <td>0</td>\n",
       "      <td>0</td>\n",
       "      <td>0</td>\n",
       "      <td>0</td>\n",
       "    </tr>\n",
       "    <tr>\n",
       "      <th>...</th>\n",
       "      <td>...</td>\n",
       "      <td>...</td>\n",
       "      <td>...</td>\n",
       "      <td>...</td>\n",
       "      <td>...</td>\n",
       "      <td>...</td>\n",
       "      <td>...</td>\n",
       "      <td>...</td>\n",
       "      <td>...</td>\n",
       "      <td>...</td>\n",
       "      <td>...</td>\n",
       "      <td>...</td>\n",
       "      <td>...</td>\n",
       "      <td>...</td>\n",
       "      <td>...</td>\n",
       "      <td>...</td>\n",
       "      <td>...</td>\n",
       "      <td>...</td>\n",
       "      <td>...</td>\n",
       "      <td>...</td>\n",
       "      <td>...</td>\n",
       "    </tr>\n",
       "    <tr>\n",
       "      <th>2429</th>\n",
       "      <td>-0.015182</td>\n",
       "      <td>-0.004634</td>\n",
       "      <td>-0.022050</td>\n",
       "      <td>0.238752</td>\n",
       "      <td>0.607440</td>\n",
       "      <td>-1.163811</td>\n",
       "      <td>0.550118</td>\n",
       "      <td>133.648000</td>\n",
       "      <td>1</td>\n",
       "      <td>1</td>\n",
       "      <td>...</td>\n",
       "      <td>0</td>\n",
       "      <td>0</td>\n",
       "      <td>0</td>\n",
       "      <td>0</td>\n",
       "      <td>0</td>\n",
       "      <td>0</td>\n",
       "      <td>0</td>\n",
       "      <td>0</td>\n",
       "      <td>0</td>\n",
       "      <td>1</td>\n",
       "    </tr>\n",
       "    <tr>\n",
       "      <th>2430</th>\n",
       "      <td>0.032827</td>\n",
       "      <td>0.023971</td>\n",
       "      <td>-0.172497</td>\n",
       "      <td>0.275110</td>\n",
       "      <td>0.602911</td>\n",
       "      <td>-1.634080</td>\n",
       "      <td>0.308280</td>\n",
       "      <td>132.890000</td>\n",
       "      <td>1</td>\n",
       "      <td>1</td>\n",
       "      <td>...</td>\n",
       "      <td>0</td>\n",
       "      <td>0</td>\n",
       "      <td>0</td>\n",
       "      <td>0</td>\n",
       "      <td>0</td>\n",
       "      <td>0</td>\n",
       "      <td>0</td>\n",
       "      <td>0</td>\n",
       "      <td>0</td>\n",
       "      <td>1</td>\n",
       "    </tr>\n",
       "    <tr>\n",
       "      <th>2431</th>\n",
       "      <td>0.034776</td>\n",
       "      <td>0.007622</td>\n",
       "      <td>-0.508196</td>\n",
       "      <td>-0.179952</td>\n",
       "      <td>0.743247</td>\n",
       "      <td>-0.455686</td>\n",
       "      <td>1.137059</td>\n",
       "      <td>132.674000</td>\n",
       "      <td>1</td>\n",
       "      <td>1</td>\n",
       "      <td>...</td>\n",
       "      <td>0</td>\n",
       "      <td>0</td>\n",
       "      <td>0</td>\n",
       "      <td>0</td>\n",
       "      <td>0</td>\n",
       "      <td>0</td>\n",
       "      <td>0</td>\n",
       "      <td>0</td>\n",
       "      <td>0</td>\n",
       "      <td>1</td>\n",
       "    </tr>\n",
       "    <tr>\n",
       "      <th>2432</th>\n",
       "      <td>-0.059685</td>\n",
       "      <td>-0.066121</td>\n",
       "      <td>-0.410366</td>\n",
       "      <td>-0.091395</td>\n",
       "      <td>0.548308</td>\n",
       "      <td>-0.197472</td>\n",
       "      <td>0.812302</td>\n",
       "      <td>133.185000</td>\n",
       "      <td>1</td>\n",
       "      <td>1</td>\n",
       "      <td>...</td>\n",
       "      <td>0</td>\n",
       "      <td>0</td>\n",
       "      <td>0</td>\n",
       "      <td>0</td>\n",
       "      <td>0</td>\n",
       "      <td>0</td>\n",
       "      <td>0</td>\n",
       "      <td>0</td>\n",
       "      <td>0</td>\n",
       "      <td>1</td>\n",
       "    </tr>\n",
       "    <tr>\n",
       "      <th>2433</th>\n",
       "      <td>0.034713</td>\n",
       "      <td>0.034176</td>\n",
       "      <td>-0.398879</td>\n",
       "      <td>-0.297217</td>\n",
       "      <td>0.385001</td>\n",
       "      <td>0.441560</td>\n",
       "      <td>0.669220</td>\n",
       "      <td>133.648000</td>\n",
       "      <td>1</td>\n",
       "      <td>1</td>\n",
       "      <td>...</td>\n",
       "      <td>0</td>\n",
       "      <td>0</td>\n",
       "      <td>0</td>\n",
       "      <td>0</td>\n",
       "      <td>0</td>\n",
       "      <td>0</td>\n",
       "      <td>0</td>\n",
       "      <td>0</td>\n",
       "      <td>0</td>\n",
       "      <td>1</td>\n",
       "    </tr>\n",
       "  </tbody>\n",
       "</table>\n",
       "<p>2434 rows × 26 columns</p>\n",
       "</div>"
      ],
      "text/plain": [
       "      avg_PPG1  avg_PPG2  skewness_PPG1  skewness_PPG2  skewness_ax  \\\n",
       "0    -0.003816  0.014058       0.219015       1.578261     1.587511   \n",
       "1     0.024221 -0.006587       0.091629       0.351287     1.219255   \n",
       "2    -0.011707 -0.002878       0.191656       0.267740     1.264487   \n",
       "3    -0.015859 -0.005135       0.394270       0.242040     1.208146   \n",
       "4     0.024076 -0.009483       0.290403      -0.147928     1.446360   \n",
       "...        ...       ...            ...            ...          ...   \n",
       "2429 -0.015182 -0.004634      -0.022050       0.238752     0.607440   \n",
       "2430  0.032827  0.023971      -0.172497       0.275110     0.602911   \n",
       "2431  0.034776  0.007622      -0.508196      -0.179952     0.743247   \n",
       "2432 -0.059685 -0.066121      -0.410366      -0.091395     0.548308   \n",
       "2433  0.034713  0.034176      -0.398879      -0.297217     0.385001   \n",
       "\n",
       "      skewness_ay  skewness_az        BPM0  Labels  ExType_2.0  ...  \\\n",
       "0        0.988141    -1.849938   84.745763       1           0  ...   \n",
       "1        0.749639    -1.547673   89.771491       0           0  ...   \n",
       "2        1.011613    -1.733567   92.592593       1           0  ...   \n",
       "3        0.952046    -1.704713   88.996764       1           0  ...   \n",
       "4        1.352678    -1.958540   84.364454       0           0  ...   \n",
       "...           ...          ...         ...     ...         ...  ...   \n",
       "2429    -1.163811     0.550118  133.648000       1           1  ...   \n",
       "2430    -1.634080     0.308280  132.890000       1           1  ...   \n",
       "2431    -0.455686     1.137059  132.674000       1           1  ...   \n",
       "2432    -0.197472     0.812302  133.185000       1           1  ...   \n",
       "2433     0.441560     0.669220  133.648000       1           1  ...   \n",
       "\n",
       "      Person_9.0  Person_10.0  Person_11.0  Person_12.0  Person_13.0  \\\n",
       "0              0            0            0            0            0   \n",
       "1              0            0            0            0            0   \n",
       "2              0            0            0            0            0   \n",
       "3              0            0            0            0            0   \n",
       "4              0            0            0            0            0   \n",
       "...          ...          ...          ...          ...          ...   \n",
       "2429           0            0            0            0            0   \n",
       "2430           0            0            0            0            0   \n",
       "2431           0            0            0            0            0   \n",
       "2432           0            0            0            0            0   \n",
       "2433           0            0            0            0            0   \n",
       "\n",
       "      Person_14.0  Person_15.0  Person_16.0  Person_17.0  Person_18.0  \n",
       "0               0            0            0            0            0  \n",
       "1               0            0            0            0            0  \n",
       "2               0            0            0            0            0  \n",
       "3               0            0            0            0            0  \n",
       "4               0            0            0            0            0  \n",
       "...           ...          ...          ...          ...          ...  \n",
       "2429            0            0            0            0            1  \n",
       "2430            0            0            0            0            1  \n",
       "2431            0            0            0            0            1  \n",
       "2432            0            0            0            0            1  \n",
       "2433            0            0            0            0            1  \n",
       "\n",
       "[2434 rows x 26 columns]"
      ]
     },
     "execution_count": 535,
     "metadata": {},
     "output_type": "execute_result"
    }
   ],
   "source": [
    "one_hot_df"
   ]
  },
  {
   "cell_type": "code",
   "execution_count": 429,
   "id": "966a9f8a",
   "metadata": {},
   "outputs": [],
   "source": [
    "one_hot_df['Labels']=one_hot_df['Labels'].astype('int')"
   ]
  },
  {
   "cell_type": "code",
   "execution_count": 430,
   "id": "ab475809",
   "metadata": {},
   "outputs": [
    {
     "data": {
      "text/plain": [
       "Index(['avg_PPG1', 'avg_PPG2', 'skewness_PPG1', 'skewness_PPG2', 'skewness_ax',\n",
       "       'skewness_ay', 'skewness_az', 'BPM0', 'Labels', 'ExType_2.0',\n",
       "       'Person_3.0', 'Person_4.0', 'Person_5.0', 'Person_6.0', 'Person_7.0',\n",
       "       'Person_8.0', 'Person_9.0', 'Person_10.0', 'Person_11.0', 'Person_12.0',\n",
       "       'Person_13.0', 'Person_14.0', 'Person_15.0', 'Person_16.0',\n",
       "       'Person_17.0', 'Person_18.0'],\n",
       "      dtype='object')"
      ]
     },
     "execution_count": 430,
     "metadata": {},
     "output_type": "execute_result"
    }
   ],
   "source": [
    "one_hot_df.columns"
   ]
  },
  {
   "cell_type": "code",
   "execution_count": 536,
   "id": "ff0bae34",
   "metadata": {},
   "outputs": [],
   "source": [
    "#Making test and train sets\n",
    "x_cols=['avg_PPG1', 'avg_PPG2', 'skewness_PPG1', 'skewness_PPG2', 'skewness_ax',\n",
    "       'skewness_ay', 'skewness_az', 'BPM0', 'ExType_2.0',\n",
    "       'Person_3.0', 'Person_4.0', 'Person_5.0', 'Person_6.0', 'Person_7.0',\n",
    "       'Person_8.0', 'Person_9.0', 'Person_10.0', 'Person_11.0', 'Person_12.0',\n",
    "       'Person_13.0', 'Person_14.0', 'Person_15.0', 'Person_16.0',\n",
    "       'Person_17.0', 'Person_18.0']\n",
    "\n",
    "X=one_hot_df[x_cols]\n",
    "y=one_hot_df['Labels']\n",
    "\n",
    "X_train, X_test, y_train, y_test = train_test_split(X, y, test_size=0.33, random_state=42)"
   ]
  },
  {
   "cell_type": "markdown",
   "id": "ecf095c7",
   "metadata": {},
   "source": [
    "### SVC\n",
    "\n",
    "I apply SVC model and check the accuracy of the prediction with confusion matrix. It can be seen below that the accuracy is suprisingly high (0.9378), which means that there could be some hidden factors that need to be noticed. Then I find out the dataset is very imbalanced.This could be the reason for the high accuracy."
   ]
  },
  {
   "cell_type": "code",
   "execution_count": 537,
   "id": "3733f638",
   "metadata": {},
   "outputs": [
    {
     "data": {
      "text/plain": [
       "SVC()"
      ]
     },
     "execution_count": 537,
     "metadata": {},
     "output_type": "execute_result"
    }
   ],
   "source": [
    "from sklearn import svm\n",
    "clf = svm.SVC()\n",
    "clf.fit(X_train, y_train)"
   ]
  },
  {
   "cell_type": "code",
   "execution_count": 538,
   "id": "6c51f1a2",
   "metadata": {},
   "outputs": [],
   "source": [
    "pred=clf.predict(X_test)"
   ]
  },
  {
   "cell_type": "code",
   "execution_count": 539,
   "id": "c0add399",
   "metadata": {},
   "outputs": [
    {
     "data": {
      "text/plain": [
       "0.9378109452736318"
      ]
     },
     "execution_count": 539,
     "metadata": {},
     "output_type": "execute_result"
    }
   ],
   "source": [
    "from sklearn.metrics import accuracy_score\n",
    "accuracy = accuracy_score(y_test, pred)\n",
    "accuracy"
   ]
  },
  {
   "cell_type": "code",
   "execution_count": 540,
   "id": "c5b338f1",
   "metadata": {},
   "outputs": [
    {
     "data": {
      "image/png": "[encoded data removed]",
      "text/plain": [
       "<Figure size 504x288 with 2 Axes>"
      ]
     },
     "metadata": {
      "needs_background": "light"
     },
     "output_type": "display_data"
    }
   ],
   "source": [
    "plot_confusion_matrix(clf, X_test, y_test)  \n",
    "plt.show()"
   ]
  },
  {
   "cell_type": "markdown",
   "id": "8278a3a4",
   "metadata": {},
   "source": [
    "### Imbalanced data\n",
    "\n",
    "It is found that only 6% of the data is labeled as 0, meaning the data is very imbalanced. The dataset is therefore resampled using function SMOTEENN() to balance the data, after which SVC is applied again. It turns out that the accuracy drop to 52%, indicating that the model is not a good one. Then I try to use other machine learning models to improve the result."
   ]
  },
  {
   "cell_type": "code",
   "execution_count": 541,
   "id": "b2602055",
   "metadata": {},
   "outputs": [
    {
     "data": {
      "text/plain": [
       "0.06241815800960279"
      ]
     },
     "execution_count": 541,
     "metadata": {},
     "output_type": "execute_result"
    }
   ],
   "source": [
    "one_hot_df['avg_PPG1'][one_hot_df['Labels']==0].count()/one_hot_df['avg_PPG1'][one_hot_df['Labels']==1].count()"
   ]
  },
  {
   "cell_type": "code",
   "execution_count": 542,
   "id": "6b4290dc",
   "metadata": {},
   "outputs": [],
   "source": [
    "from imblearn.combine import SMOTEENN\n",
    "smote_enn = SMOTEENN(random_state=0)\n",
    "X_resampled, y_resampled = smote_enn.fit_resample(X, y)\n",
    " \n",
    "# from imblearn.combine import SMOTETomek\n",
    "# smote_tomek = SMOTETomek(random_state=0)\n",
    "# X_resampled, y_resampled = smote_tomek.fit_resample(X, y)"
   ]
  },
  {
   "cell_type": "code",
   "execution_count": 543,
   "id": "1591a202",
   "metadata": {},
   "outputs": [],
   "source": [
    "from sklearn.model_selection import train_test_split\n",
    "\n",
    "X_train, X_test, y_train, y_test = train_test_split(X_resampled, y_resampled, test_size=0.33, random_state=42)"
   ]
  },
  {
   "cell_type": "code",
   "execution_count": 545,
   "id": "f4704079",
   "metadata": {},
   "outputs": [
    {
     "data": {
      "text/plain": [
       "0.5268505079825835"
      ]
     },
     "execution_count": 545,
     "metadata": {},
     "output_type": "execute_result"
    }
   ],
   "source": [
    "from sklearn import svm\n",
    "clf = svm.SVC()\n",
    "clf.fit(X_train, y_train)\n",
    "pred=clf.predict(X_test)\n",
    "accuracy = accuracy_score(y_test, pred)\n",
    "accuracy"
   ]
  },
  {
   "cell_type": "code",
   "execution_count": 546,
   "id": "c364d402",
   "metadata": {},
   "outputs": [
    {
     "data": {
      "image/png": "[encoded data removed]",
      "text/plain": [
       "<Figure size 504x288 with 2 Axes>"
      ]
     },
     "metadata": {
      "needs_background": "light"
     },
     "output_type": "display_data"
    }
   ],
   "source": [
    "plot_confusion_matrix(clf, X_test, y_test)  \n",
    "plt.show()"
   ]
  },
  {
   "cell_type": "markdown",
   "id": "059e6b48",
   "metadata": {},
   "source": [
    "### Logistic Regression\n",
    "\n",
    "In this case, the classification method of Logistic Regression performs well with an improved accuracy of 0.849. Of course, accuracy is not the only criteria to evaluate model. \n",
    "\n",
    "With regards to future work, more features could be investigated and calculated in the analysis. Also some deep learning techniques such as LSTM may be used for this time-series data."
   ]
  },
  {
   "cell_type": "code",
   "execution_count": 547,
   "id": "6ea2c886",
   "metadata": {},
   "outputs": [
    {
     "name": "stderr",
     "output_type": "stream",
     "text": [
      "C:\\Users\\shuan\\Anaconda3\\lib\\site-packages\\sklearn\\linear_model\\_logistic.py:763: ConvergenceWarning: lbfgs failed to converge (status=1):\n",
      "STOP: TOTAL NO. of ITERATIONS REACHED LIMIT.\n",
      "\n",
      "Increase the number of iterations (max_iter) or scale the data as shown in:\n",
      "    https://scikit-learn.org/stable/modules/preprocessing.html\n",
      "Please also refer to the documentation for alternative solver options:\n",
      "    https://scikit-learn.org/stable/modules/linear_model.html#logistic-regression\n",
      "  n_iter_i = _check_optimize_result(\n"
     ]
    },
    {
     "data": {
      "text/plain": [
       "0.8490566037735849"
      ]
     },
     "execution_count": 547,
     "metadata": {},
     "output_type": "execute_result"
    }
   ],
   "source": [
    "from sklearn.linear_model import LogisticRegression\n",
    "clf = LogisticRegression(random_state=0)\n",
    "clf.fit(X_train, y_train)\n",
    "pred=clf.predict(X_test)\n",
    "accuracy = accuracy_score(y_test, pred)\n",
    "accuracy"
   ]
  },
  {
   "cell_type": "code",
   "execution_count": 548,
   "id": "d1322fde",
   "metadata": {},
   "outputs": [
    {
     "data": {
      "image/png": "[encoded data removed]",
      "text/plain": [
       "<Figure size 504x288 with 2 Axes>"
      ]
     },
     "metadata": {
      "needs_background": "light"
     },
     "output_type": "display_data"
    }
   ],
   "source": [
    "plot_confusion_matrix(clf, X_test, y_test)  \n",
    "plt.show()"
   ]
  },
  {
   "cell_type": "code",
   "execution_count": null,
   "id": "cb0c0974",
   "metadata": {},
   "outputs": [],
   "source": []
  },
  {
   "cell_type": "code",
   "execution_count": null,
   "id": "9c7f078b",
   "metadata": {},
   "outputs": [],
   "source": []
  },
  {
   "cell_type": "code",
   "execution_count": null,
   "id": "1ea56a81",
   "metadata": {},
   "outputs": [],
   "source": []
  },
  {
   "cell_type": "code",
   "execution_count": null,
   "id": "5a96f50f",
   "metadata": {},
   "outputs": [],
   "source": []
  },
  {
   "cell_type": "code",
   "execution_count": null,
   "id": "8f741882",
   "metadata": {},
   "outputs": [],
   "source": []
  },
  {
   "cell_type": "code",
   "execution_count": null,
   "id": "a3995208",
   "metadata": {},
   "outputs": [],
   "source": []
  },
  {
   "cell_type": "markdown",
   "id": "757d37c4",
   "metadata": {},
   "source": [
    "# Exersise 2"
   ]
  },
  {
   "cell_type": "markdown",
   "id": "deb40833",
   "metadata": {},
   "source": [
    "## Understand the dataset\n",
    "\n",
    "This dataset contains 11 attributes, `ID`, `Group`, `Age`, `BMI`, `Gender`, `Smoker`, `Day`, `Block`, `HR`, `ACC`, `QI`. The data is collected from two groups, health control ('Control') and patients with a history of substance abuse ('Patient'), monitoring their average heart rate(`HR`) during the day and night. Apart from basic information such as `Age` and `Gender`, quality indicator (`QI`) is also recorded in the dataset.\n",
    "\n",
    "\n",
    "From the information below showing the data structure and type, it is observed that most of the data is object and `HR`,`ACC` and `QI` are numerical data. When checking the missing values in the dataset, only the `Smoker` attribute has 45 null values which is filled with 'Na'."
   ]
  },
  {
   "cell_type": "code",
   "execution_count": 607,
   "id": "66f43ead",
   "metadata": {},
   "outputs": [],
   "source": [
    "data = pd.read_csv('Exercise 2/Heart_rate_DN.csv')"
   ]
  },
  {
   "cell_type": "code",
   "execution_count": 565,
   "id": "d56aaf88",
   "metadata": {
    "scrolled": true
   },
   "outputs": [
    {
     "data": {
      "text/html": [
       "<div>\n",
       "<style scoped>\n",
       "    .dataframe tbody tr th:only-of-type {\n",
       "        vertical-align: middle;\n",
       "    }\n",
       "\n",
       "    .dataframe tbody tr th {\n",
       "        vertical-align: top;\n",
       "    }\n",
       "\n",
       "    .dataframe thead th {\n",
       "        text-align: right;\n",
       "    }\n",
       "</style>\n",
       "<table border=\"1\" class=\"dataframe\">\n",
       "  <thead>\n",
       "    <tr style=\"text-align: right;\">\n",
       "      <th></th>\n",
       "      <th>ID</th>\n",
       "      <th>Group</th>\n",
       "      <th>Age</th>\n",
       "      <th>BMI</th>\n",
       "      <th>Gender</th>\n",
       "      <th>Smoker</th>\n",
       "      <th>Day</th>\n",
       "      <th>Block</th>\n",
       "      <th>HR</th>\n",
       "      <th>ACC</th>\n",
       "      <th>QI</th>\n",
       "    </tr>\n",
       "  </thead>\n",
       "  <tbody>\n",
       "    <tr>\n",
       "      <th>0</th>\n",
       "      <td>2</td>\n",
       "      <td>Control</td>\n",
       "      <td>40-45</td>\n",
       "      <td>18-21</td>\n",
       "      <td>Female</td>\n",
       "      <td>No</td>\n",
       "      <td>0</td>\n",
       "      <td>Day</td>\n",
       "      <td>57</td>\n",
       "      <td>9.27</td>\n",
       "      <td>0.90</td>\n",
       "    </tr>\n",
       "    <tr>\n",
       "      <th>1</th>\n",
       "      <td>2</td>\n",
       "      <td>Control</td>\n",
       "      <td>40-45</td>\n",
       "      <td>18-21</td>\n",
       "      <td>Female</td>\n",
       "      <td>No</td>\n",
       "      <td>1</td>\n",
       "      <td>Night</td>\n",
       "      <td>49</td>\n",
       "      <td>9.52</td>\n",
       "      <td>0.93</td>\n",
       "    </tr>\n",
       "    <tr>\n",
       "      <th>2</th>\n",
       "      <td>2</td>\n",
       "      <td>Control</td>\n",
       "      <td>40-45</td>\n",
       "      <td>18-21</td>\n",
       "      <td>Female</td>\n",
       "      <td>No</td>\n",
       "      <td>1</td>\n",
       "      <td>Day</td>\n",
       "      <td>59</td>\n",
       "      <td>9.19</td>\n",
       "      <td>0.91</td>\n",
       "    </tr>\n",
       "    <tr>\n",
       "      <th>3</th>\n",
       "      <td>4</td>\n",
       "      <td>Control</td>\n",
       "      <td>30-35</td>\n",
       "      <td>24-27</td>\n",
       "      <td>Male</td>\n",
       "      <td>No</td>\n",
       "      <td>0</td>\n",
       "      <td>Day</td>\n",
       "      <td>76</td>\n",
       "      <td>10.07</td>\n",
       "      <td>0.98</td>\n",
       "    </tr>\n",
       "    <tr>\n",
       "      <th>4</th>\n",
       "      <td>4</td>\n",
       "      <td>Control</td>\n",
       "      <td>30-35</td>\n",
       "      <td>24-27</td>\n",
       "      <td>Male</td>\n",
       "      <td>No</td>\n",
       "      <td>1</td>\n",
       "      <td>Night</td>\n",
       "      <td>68</td>\n",
       "      <td>9.88</td>\n",
       "      <td>0.99</td>\n",
       "    </tr>\n",
       "    <tr>\n",
       "      <th>...</th>\n",
       "      <td>...</td>\n",
       "      <td>...</td>\n",
       "      <td>...</td>\n",
       "      <td>...</td>\n",
       "      <td>...</td>\n",
       "      <td>...</td>\n",
       "      <td>...</td>\n",
       "      <td>...</td>\n",
       "      <td>...</td>\n",
       "      <td>...</td>\n",
       "      <td>...</td>\n",
       "    </tr>\n",
       "    <tr>\n",
       "      <th>269</th>\n",
       "      <td>386</td>\n",
       "      <td>Patient</td>\n",
       "      <td>55-60</td>\n",
       "      <td>33-36</td>\n",
       "      <td>Female</td>\n",
       "      <td>No</td>\n",
       "      <td>0</td>\n",
       "      <td>Day</td>\n",
       "      <td>80</td>\n",
       "      <td>9.26</td>\n",
       "      <td>0.97</td>\n",
       "    </tr>\n",
       "    <tr>\n",
       "      <th>270</th>\n",
       "      <td>386</td>\n",
       "      <td>Patient</td>\n",
       "      <td>55-60</td>\n",
       "      <td>33-36</td>\n",
       "      <td>Female</td>\n",
       "      <td>No</td>\n",
       "      <td>1</td>\n",
       "      <td>Night</td>\n",
       "      <td>73</td>\n",
       "      <td>9.28</td>\n",
       "      <td>0.98</td>\n",
       "    </tr>\n",
       "    <tr>\n",
       "      <th>271</th>\n",
       "      <td>386</td>\n",
       "      <td>Patient</td>\n",
       "      <td>55-60</td>\n",
       "      <td>33-36</td>\n",
       "      <td>Female</td>\n",
       "      <td>No</td>\n",
       "      <td>1</td>\n",
       "      <td>Day</td>\n",
       "      <td>80</td>\n",
       "      <td>9.28</td>\n",
       "      <td>0.98</td>\n",
       "    </tr>\n",
       "    <tr>\n",
       "      <th>272</th>\n",
       "      <td>396</td>\n",
       "      <td>Patient</td>\n",
       "      <td>25-30</td>\n",
       "      <td>24-27</td>\n",
       "      <td>Female</td>\n",
       "      <td>Former smoker</td>\n",
       "      <td>1</td>\n",
       "      <td>Night</td>\n",
       "      <td>63</td>\n",
       "      <td>8.50</td>\n",
       "      <td>0.92</td>\n",
       "    </tr>\n",
       "    <tr>\n",
       "      <th>273</th>\n",
       "      <td>396</td>\n",
       "      <td>Patient</td>\n",
       "      <td>25-30</td>\n",
       "      <td>24-27</td>\n",
       "      <td>Female</td>\n",
       "      <td>Former smoker</td>\n",
       "      <td>1</td>\n",
       "      <td>Day</td>\n",
       "      <td>65</td>\n",
       "      <td>8.60</td>\n",
       "      <td>0.92</td>\n",
       "    </tr>\n",
       "  </tbody>\n",
       "</table>\n",
       "<p>274 rows × 11 columns</p>\n",
       "</div>"
      ],
      "text/plain": [
       "      ID    Group    Age    BMI  Gender         Smoker  Day  Block  HR    ACC  \\\n",
       "0      2  Control  40-45  18-21  Female             No    0    Day  57   9.27   \n",
       "1      2  Control  40-45  18-21  Female             No    1  Night  49   9.52   \n",
       "2      2  Control  40-45  18-21  Female             No    1    Day  59   9.19   \n",
       "3      4  Control  30-35  24-27    Male             No    0    Day  76  10.07   \n",
       "4      4  Control  30-35  24-27    Male             No    1  Night  68   9.88   \n",
       "..   ...      ...    ...    ...     ...            ...  ...    ...  ..    ...   \n",
       "269  386  Patient  55-60  33-36  Female             No    0    Day  80   9.26   \n",
       "270  386  Patient  55-60  33-36  Female             No    1  Night  73   9.28   \n",
       "271  386  Patient  55-60  33-36  Female             No    1    Day  80   9.28   \n",
       "272  396  Patient  25-30  24-27  Female  Former smoker    1  Night  63   8.50   \n",
       "273  396  Patient  25-30  24-27  Female  Former smoker    1    Day  65   8.60   \n",
       "\n",
       "       QI  \n",
       "0    0.90  \n",
       "1    0.93  \n",
       "2    0.91  \n",
       "3    0.98  \n",
       "4    0.99  \n",
       "..    ...  \n",
       "269  0.97  \n",
       "270  0.98  \n",
       "271  0.98  \n",
       "272  0.92  \n",
       "273  0.92  \n",
       "\n",
       "[274 rows x 11 columns]"
      ]
     },
     "execution_count": 565,
     "metadata": {},
     "output_type": "execute_result"
    }
   ],
   "source": [
    "data"
   ]
  },
  {
   "cell_type": "code",
   "execution_count": 446,
   "id": "bc0b7820",
   "metadata": {},
   "outputs": [
    {
     "name": "stdout",
     "output_type": "stream",
     "text": [
      "<class 'pandas.core.frame.DataFrame'>\n",
      "RangeIndex: 274 entries, 0 to 273\n",
      "Data columns (total 11 columns):\n",
      " #   Column  Non-Null Count  Dtype  \n",
      "---  ------  --------------  -----  \n",
      " 0   ID      274 non-null    int64  \n",
      " 1   Group   274 non-null    object \n",
      " 2   Age     274 non-null    object \n",
      " 3   BMI     274 non-null    object \n",
      " 4   Gender  274 non-null    object \n",
      " 5   Smoker  229 non-null    object \n",
      " 6   Day     274 non-null    int64  \n",
      " 7   Block   274 non-null    object \n",
      " 8   HR      274 non-null    int64  \n",
      " 9   ACC     274 non-null    float64\n",
      " 10  QI      274 non-null    float64\n",
      "dtypes: float64(2), int64(3), object(6)\n",
      "memory usage: 23.7+ KB\n"
     ]
    }
   ],
   "source": [
    "data.info()"
   ]
  },
  {
   "cell_type": "code",
   "execution_count": 447,
   "id": "05ca25e5",
   "metadata": {},
   "outputs": [
    {
     "data": {
      "text/html": [
       "<div>\n",
       "<style scoped>\n",
       "    .dataframe tbody tr th:only-of-type {\n",
       "        vertical-align: middle;\n",
       "    }\n",
       "\n",
       "    .dataframe tbody tr th {\n",
       "        vertical-align: top;\n",
       "    }\n",
       "\n",
       "    .dataframe thead th {\n",
       "        text-align: right;\n",
       "    }\n",
       "</style>\n",
       "<table border=\"1\" class=\"dataframe\">\n",
       "  <thead>\n",
       "    <tr style=\"text-align: right;\">\n",
       "      <th></th>\n",
       "      <th>ID</th>\n",
       "      <th>Day</th>\n",
       "      <th>HR</th>\n",
       "      <th>ACC</th>\n",
       "      <th>QI</th>\n",
       "    </tr>\n",
       "  </thead>\n",
       "  <tbody>\n",
       "    <tr>\n",
       "      <th>count</th>\n",
       "      <td>274.000000</td>\n",
       "      <td>274.000000</td>\n",
       "      <td>274.000000</td>\n",
       "      <td>274.000000</td>\n",
       "      <td>274.000000</td>\n",
       "    </tr>\n",
       "    <tr>\n",
       "      <th>mean</th>\n",
       "      <td>161.412409</td>\n",
       "      <td>1.784672</td>\n",
       "      <td>69.412409</td>\n",
       "      <td>9.352482</td>\n",
       "      <td>0.925876</td>\n",
       "    </tr>\n",
       "    <tr>\n",
       "      <th>std</th>\n",
       "      <td>113.422004</td>\n",
       "      <td>1.126269</td>\n",
       "      <td>14.034807</td>\n",
       "      <td>0.337429</td>\n",
       "      <td>0.146641</td>\n",
       "    </tr>\n",
       "    <tr>\n",
       "      <th>min</th>\n",
       "      <td>2.000000</td>\n",
       "      <td>0.000000</td>\n",
       "      <td>40.000000</td>\n",
       "      <td>8.500000</td>\n",
       "      <td>0.010000</td>\n",
       "    </tr>\n",
       "    <tr>\n",
       "      <th>25%</th>\n",
       "      <td>69.000000</td>\n",
       "      <td>1.000000</td>\n",
       "      <td>60.000000</td>\n",
       "      <td>9.130000</td>\n",
       "      <td>0.930000</td>\n",
       "    </tr>\n",
       "    <tr>\n",
       "      <th>50%</th>\n",
       "      <td>136.000000</td>\n",
       "      <td>2.000000</td>\n",
       "      <td>68.000000</td>\n",
       "      <td>9.350000</td>\n",
       "      <td>0.950000</td>\n",
       "    </tr>\n",
       "    <tr>\n",
       "      <th>75%</th>\n",
       "      <td>257.000000</td>\n",
       "      <td>3.000000</td>\n",
       "      <td>78.000000</td>\n",
       "      <td>9.560000</td>\n",
       "      <td>0.970000</td>\n",
       "    </tr>\n",
       "    <tr>\n",
       "      <th>max</th>\n",
       "      <td>396.000000</td>\n",
       "      <td>5.000000</td>\n",
       "      <td>119.000000</td>\n",
       "      <td>10.070000</td>\n",
       "      <td>0.990000</td>\n",
       "    </tr>\n",
       "  </tbody>\n",
       "</table>\n",
       "</div>"
      ],
      "text/plain": [
       "               ID         Day          HR         ACC          QI\n",
       "count  274.000000  274.000000  274.000000  274.000000  274.000000\n",
       "mean   161.412409    1.784672   69.412409    9.352482    0.925876\n",
       "std    113.422004    1.126269   14.034807    0.337429    0.146641\n",
       "min      2.000000    0.000000   40.000000    8.500000    0.010000\n",
       "25%     69.000000    1.000000   60.000000    9.130000    0.930000\n",
       "50%    136.000000    2.000000   68.000000    9.350000    0.950000\n",
       "75%    257.000000    3.000000   78.000000    9.560000    0.970000\n",
       "max    396.000000    5.000000  119.000000   10.070000    0.990000"
      ]
     },
     "execution_count": 447,
     "metadata": {},
     "output_type": "execute_result"
    }
   ],
   "source": [
    "data.describe()"
   ]
  },
  {
   "cell_type": "code",
   "execution_count": 448,
   "id": "2d1bf055",
   "metadata": {},
   "outputs": [
    {
     "data": {
      "text/plain": [
       "ID         0\n",
       "Group      0\n",
       "Age        0\n",
       "BMI        0\n",
       "Gender     0\n",
       "Smoker    45\n",
       "Day        0\n",
       "Block      0\n",
       "HR         0\n",
       "ACC        0\n",
       "QI         0\n",
       "dtype: int64"
      ]
     },
     "execution_count": 448,
     "metadata": {},
     "output_type": "execute_result"
    }
   ],
   "source": [
    "data.isna().sum()"
   ]
  },
  {
   "cell_type": "code",
   "execution_count": 608,
   "id": "3596c281",
   "metadata": {},
   "outputs": [
    {
     "data": {
      "text/plain": [
       "ID        0\n",
       "Group     0\n",
       "Age       0\n",
       "BMI       0\n",
       "Gender    0\n",
       "Smoker    0\n",
       "Day       0\n",
       "Block     0\n",
       "HR        0\n",
       "ACC       0\n",
       "QI        0\n",
       "dtype: int64"
      ]
     },
     "execution_count": 608,
     "metadata": {},
     "output_type": "execute_result"
    }
   ],
   "source": [
    "data=data.fillna('Na')\n",
    "data.isna().sum()"
   ]
  },
  {
   "cell_type": "markdown",
   "id": "473cf847",
   "metadata": {},
   "source": [
    "## Data exploratory"
   ]
  },
  {
   "cell_type": "markdown",
   "id": "8ee10e59",
   "metadata": {},
   "source": [
    "### data visualization\n",
    "\n",
    "The plots below show the distribuition and density by `Age` and `Gender`, which is also shown by different groups. \n",
    "\n",
    "The original data of `Age` is replaced with numerical data using dic(). It is shown that the data are collected from the people with age ranging from 20 to 65+, and the distribution peaks at tweenties and forties. There is no obvious difference between 'Control' and 'Patient' groups.\n",
    "\n",
    "For the `Gender` attribute,I encode it with a value 0 for female and 1 for male. In the group of 'Patient', there is more female than male."
   ]
  },
  {
   "cell_type": "code",
   "execution_count": 609,
   "id": "6b12a9e2",
   "metadata": {},
   "outputs": [],
   "source": [
    "# data[\"Age\"].unique()\n",
    "agedict = {\n",
    " '40-45':40, '30-35':30, '50-55':50, '55-60':55, '20-25':20, '25-30':25, '45-50':45,\n",
    "       '35-40':35, '60-65':60, '65+':65\n",
    "}\n",
    "\n",
    "new_df=data\n",
    "new_df['num_age']=data['Age'].apply(lambda x: agedict[x])"
   ]
  },
  {
   "cell_type": "code",
   "execution_count": 610,
   "id": "40e93d97",
   "metadata": {},
   "outputs": [
    {
     "name": "stderr",
     "output_type": "stream",
     "text": [
      "C:\\Users\\shuan\\Anaconda3\\lib\\site-packages\\seaborn\\distributions.py:2619: FutureWarning: `distplot` is a deprecated function and will be removed in a future version. Please adapt your code to use either `displot` (a figure-level function with similar flexibility) or `histplot` (an axes-level function for histograms).\n",
      "  warnings.warn(msg, FutureWarning)\n",
      "C:\\Users\\shuan\\Anaconda3\\lib\\site-packages\\seaborn\\axisgrid.py:337: UserWarning: The `size` parameter has been renamed to `height`; please update your code.\n",
      "  warnings.warn(msg, UserWarning)\n",
      "C:\\Users\\shuan\\Anaconda3\\lib\\site-packages\\seaborn\\distributions.py:2619: FutureWarning: `distplot` is a deprecated function and will be removed in a future version. Please adapt your code to use either `displot` (a figure-level function with similar flexibility) or `histplot` (an axes-level function for histograms).\n",
      "  warnings.warn(msg, FutureWarning)\n",
      "C:\\Users\\shuan\\Anaconda3\\lib\\site-packages\\seaborn\\distributions.py:2619: FutureWarning: `distplot` is a deprecated function and will be removed in a future version. Please adapt your code to use either `displot` (a figure-level function with similar flexibility) or `histplot` (an axes-level function for histograms).\n",
      "  warnings.warn(msg, FutureWarning)\n"
     ]
    },
    {
     "data": {
      "image/png": "[encoded data removed]",
      "text/plain": [
       "<Figure size 432x288 with 1 Axes>"
      ]
     },
     "metadata": {
      "needs_background": "light"
     },
     "output_type": "display_data"
    },
    {
     "data": {
      "image/png": "[encoded data removed]",
      "text/plain": [
       "<Figure size 432x216 with 2 Axes>"
      ]
     },
     "metadata": {
      "needs_background": "light"
     },
     "output_type": "display_data"
    }
   ],
   "source": [
    "# Distribiution and density by Age\n",
    "new_df = data.drop_duplicates(subset=['ID'],keep='first')\n",
    "plt.figure(figsize=(6,4))\n",
    "sns.distplot(new_df[\"num_age\"], bins=10)\n",
    "plt.title(\"Distribuition and density by Age\")\n",
    "plt.xlabel(\"Age\")\n",
    "\n",
    "g = sns.FacetGrid(new_df, col='Group', size=3)\n",
    "g = g.map(sns.distplot, \"num_age\")"
   ]
  },
  {
   "cell_type": "code",
   "execution_count": 611,
   "id": "4d347537",
   "metadata": {},
   "outputs": [
    {
     "name": "stderr",
     "output_type": "stream",
     "text": [
      "<ipython-input-611-6ec87fa95a5f>:2: SettingWithCopyWarning: \n",
      "A value is trying to be set on a copy of a slice from a DataFrame.\n",
      "Try using .loc[row_indexer,col_indexer] = value instead\n",
      "\n",
      "See the caveats in the documentation: https://pandas.pydata.org/pandas-docs/stable/user_guide/indexing.html#returning-a-view-versus-a-copy\n",
      "  new_df['num_Gender']=new_df['Gender'].apply(lambda x: 0 if x=='Female' else 1)\n",
      "C:\\Users\\shuan\\Anaconda3\\lib\\site-packages\\seaborn\\distributions.py:2619: FutureWarning: `distplot` is a deprecated function and will be removed in a future version. Please adapt your code to use either `displot` (a figure-level function with similar flexibility) or `histplot` (an axes-level function for histograms).\n",
      "  warnings.warn(msg, FutureWarning)\n",
      "C:\\Users\\shuan\\Anaconda3\\lib\\site-packages\\seaborn\\axisgrid.py:337: UserWarning: The `size` parameter has been renamed to `height`; please update your code.\n",
      "  warnings.warn(msg, UserWarning)\n",
      "C:\\Users\\shuan\\Anaconda3\\lib\\site-packages\\seaborn\\distributions.py:2619: FutureWarning: `distplot` is a deprecated function and will be removed in a future version. Please adapt your code to use either `displot` (a figure-level function with similar flexibility) or `histplot` (an axes-level function for histograms).\n",
      "  warnings.warn(msg, FutureWarning)\n",
      "C:\\Users\\shuan\\Anaconda3\\lib\\site-packages\\seaborn\\distributions.py:2619: FutureWarning: `distplot` is a deprecated function and will be removed in a future version. Please adapt your code to use either `displot` (a figure-level function with similar flexibility) or `histplot` (an axes-level function for histograms).\n",
      "  warnings.warn(msg, FutureWarning)\n"
     ]
    },
    {
     "data": {
      "text/plain": [
       "([<matplotlib.axis.XTick at 0x2923cb77610>,\n",
       "  <matplotlib.axis.XTick at 0x2923cb77100>,\n",
       "  <matplotlib.axis.XTick at 0x2923ca83310>],\n",
       " [Text(0, 0, 'Female'), Text(1, 0, 'Male'), Text(2, 0, '')])"
      ]
     },
     "execution_count": 611,
     "metadata": {},
     "output_type": "execute_result"
    },
    {
     "data": {
      "image/png": "[encoded data removed]",
      "text/plain": [
       "<Figure size 432x288 with 1 Axes>"
      ]
     },
     "metadata": {
      "needs_background": "light"
     },
     "output_type": "display_data"
    },
    {
     "data": {
      "image/png": "[encoded data removed]",
      "text/plain": [
       "<Figure size 432x216 with 2 Axes>"
      ]
     },
     "metadata": {
      "needs_background": "light"
     },
     "output_type": "display_data"
    }
   ],
   "source": [
    "### Distribiution and density by Age\n",
    "new_df['num_Gender']=new_df['Gender'].apply(lambda x: 0 if x=='Female' else 1)\n",
    "plt.figure(figsize=(6,4))\n",
    "sns.distplot(new_df[\"num_Gender\"], bins=10)\n",
    "plt.title(\"Distribuition and density by Gender\")\n",
    "plt.xlabel(\"Gender\")\n",
    "x = range(0,3,1)\n",
    "plt.xticks(x, ('Female','Male',''))\n",
    "\n",
    "g = sns.FacetGrid(new_df, col='Group', size=3)\n",
    "g = g.map(sns.distplot, \"num_Gender\")\n",
    "x = range(0,3,1)\n",
    "plt.xticks(x, ('Female','Male',''))"
   ]
  },
  {
   "cell_type": "markdown",
   "id": "04bd412f",
   "metadata": {},
   "source": [
    "### check outlier"
   ]
  },
  {
   "cell_type": "markdown",
   "id": "35b5fabf",
   "metadata": {},
   "source": [
    "There are extreme values (obvious outliers) in `QI` as shown in the plot below, which are all coming from the same person with an 'ID' of 69. Since there is limited amount of data, I replace those outliers with `QI` values randomly selected from the people in the same group with similar biological information, rather than excluding these data."
   ]
  },
  {
   "cell_type": "code",
   "execution_count": 612,
   "id": "dc87a519",
   "metadata": {
    "scrolled": true
   },
   "outputs": [
    {
     "data": {
      "text/plain": [
       "Text(0.5, 1.0, 'Box and Whiskers Plot')"
      ]
     },
     "execution_count": 612,
     "metadata": {},
     "output_type": "execute_result"
    },
    {
     "data": {
      "image/png": "[encoded data removed]",
      "text/plain": [
       "<Figure size 288x216 with 1 Axes>"
      ]
     },
     "metadata": {
      "needs_background": "light"
     },
     "output_type": "display_data"
    }
   ],
   "source": [
    "plt.rcParams[\"figure.figsize\"] = (4,3)\n",
    "sns.boxplot(y=data['QI'], showmeans = True, meanprops={\"marker\":\"o\",\n",
    "                       \"markerfacecolor\":\"red\", \n",
    "                       \"markeredgecolor\":\"black\",\n",
    "                      \"markersize\":\"7\"})\n",
    "\n",
    "plt.tick_params(labelrotation = 65)\n",
    "plt.xlabel(\"Quality Indicator\")\n",
    "plt.title(\"Box and Whiskers Plot\")"
   ]
  },
  {
   "cell_type": "code",
   "execution_count": 643,
   "id": "055485b7",
   "metadata": {},
   "outputs": [
    {
     "data": {
      "text/plain": [
       "Text(0.5, 0, 'Heart Rate')"
      ]
     },
     "execution_count": 643,
     "metadata": {},
     "output_type": "execute_result"
    },
    {
     "data": {
      "image/png": "[encoded data removed]",
      "text/plain": [
       "<Figure size 288x216 with 1 Axes>"
      ]
     },
     "metadata": {
      "needs_background": "light"
     },
     "output_type": "display_data"
    }
   ],
   "source": [
    "sns.boxplot(y=data['HR'], showmeans = True, meanprops={\"marker\":\"o\",\n",
    "                       \"markerfacecolor\":\"red\", \n",
    "                       \"markeredgecolor\":\"black\",\n",
    "                      \"markersize\":\"7\"})\n",
    "plt.xlabel(\"Heart Rate\")\n"
   ]
  },
  {
   "cell_type": "code",
   "execution_count": 644,
   "id": "27232114",
   "metadata": {},
   "outputs": [
    {
     "data": {
      "text/plain": [
       "Text(0.5, 0, 'ACC')"
      ]
     },
     "execution_count": 644,
     "metadata": {},
     "output_type": "execute_result"
    },
    {
     "data": {
      "image/png": "[encoded data removed]",
      "text/plain": [
       "<Figure size 288x216 with 1 Axes>"
      ]
     },
     "metadata": {
      "needs_background": "light"
     },
     "output_type": "display_data"
    }
   ],
   "source": [
    "sns.boxplot(y=data['ACC'], showmeans = True, meanprops={\"marker\":\"o\",\n",
    "                       \"markerfacecolor\":\"red\", \n",
    "                       \"markeredgecolor\":\"black\",\n",
    "                      \"markersize\":\"7\"})\n",
    "plt.xlabel(\"ACC\")\n"
   ]
  },
  {
   "cell_type": "code",
   "execution_count": 452,
   "id": "d5ddf6bc",
   "metadata": {},
   "outputs": [
    {
     "data": {
      "text/html": [
       "<div>\n",
       "<style scoped>\n",
       "    .dataframe tbody tr th:only-of-type {\n",
       "        vertical-align: middle;\n",
       "    }\n",
       "\n",
       "    .dataframe tbody tr th {\n",
       "        vertical-align: top;\n",
       "    }\n",
       "\n",
       "    .dataframe thead th {\n",
       "        text-align: right;\n",
       "    }\n",
       "</style>\n",
       "<table border=\"1\" class=\"dataframe\">\n",
       "  <thead>\n",
       "    <tr style=\"text-align: right;\">\n",
       "      <th></th>\n",
       "      <th>ID</th>\n",
       "      <th>Group</th>\n",
       "      <th>Age</th>\n",
       "      <th>BMI</th>\n",
       "      <th>Gender</th>\n",
       "      <th>Smoker</th>\n",
       "      <th>Day</th>\n",
       "      <th>Block</th>\n",
       "      <th>HR</th>\n",
       "      <th>ACC</th>\n",
       "      <th>QI</th>\n",
       "    </tr>\n",
       "  </thead>\n",
       "  <tbody>\n",
       "    <tr>\n",
       "      <th>68</th>\n",
       "      <td>69</td>\n",
       "      <td>Control</td>\n",
       "      <td>40-45</td>\n",
       "      <td>18-21</td>\n",
       "      <td>Male</td>\n",
       "      <td>No</td>\n",
       "      <td>0</td>\n",
       "      <td>Day</td>\n",
       "      <td>74</td>\n",
       "      <td>9.98</td>\n",
       "      <td>0.03</td>\n",
       "    </tr>\n",
       "    <tr>\n",
       "      <th>69</th>\n",
       "      <td>69</td>\n",
       "      <td>Control</td>\n",
       "      <td>40-45</td>\n",
       "      <td>18-21</td>\n",
       "      <td>Male</td>\n",
       "      <td>No</td>\n",
       "      <td>1</td>\n",
       "      <td>Night</td>\n",
       "      <td>57</td>\n",
       "      <td>9.61</td>\n",
       "      <td>0.01</td>\n",
       "    </tr>\n",
       "    <tr>\n",
       "      <th>70</th>\n",
       "      <td>69</td>\n",
       "      <td>Control</td>\n",
       "      <td>40-45</td>\n",
       "      <td>18-21</td>\n",
       "      <td>Male</td>\n",
       "      <td>No</td>\n",
       "      <td>1</td>\n",
       "      <td>Day</td>\n",
       "      <td>73</td>\n",
       "      <td>10.00</td>\n",
       "      <td>0.11</td>\n",
       "    </tr>\n",
       "    <tr>\n",
       "      <th>71</th>\n",
       "      <td>69</td>\n",
       "      <td>Control</td>\n",
       "      <td>40-45</td>\n",
       "      <td>18-21</td>\n",
       "      <td>Male</td>\n",
       "      <td>No</td>\n",
       "      <td>2</td>\n",
       "      <td>Night</td>\n",
       "      <td>61</td>\n",
       "      <td>9.47</td>\n",
       "      <td>0.01</td>\n",
       "    </tr>\n",
       "    <tr>\n",
       "      <th>72</th>\n",
       "      <td>69</td>\n",
       "      <td>Control</td>\n",
       "      <td>40-45</td>\n",
       "      <td>18-21</td>\n",
       "      <td>Male</td>\n",
       "      <td>No</td>\n",
       "      <td>2</td>\n",
       "      <td>Day</td>\n",
       "      <td>66</td>\n",
       "      <td>9.87</td>\n",
       "      <td>0.04</td>\n",
       "    </tr>\n",
       "    <tr>\n",
       "      <th>73</th>\n",
       "      <td>69</td>\n",
       "      <td>Control</td>\n",
       "      <td>40-45</td>\n",
       "      <td>18-21</td>\n",
       "      <td>Male</td>\n",
       "      <td>No</td>\n",
       "      <td>3</td>\n",
       "      <td>Night</td>\n",
       "      <td>60</td>\n",
       "      <td>9.49</td>\n",
       "      <td>0.06</td>\n",
       "    </tr>\n",
       "    <tr>\n",
       "      <th>74</th>\n",
       "      <td>69</td>\n",
       "      <td>Control</td>\n",
       "      <td>40-45</td>\n",
       "      <td>18-21</td>\n",
       "      <td>Male</td>\n",
       "      <td>No</td>\n",
       "      <td>3</td>\n",
       "      <td>Day</td>\n",
       "      <td>67</td>\n",
       "      <td>9.80</td>\n",
       "      <td>0.02</td>\n",
       "    </tr>\n",
       "  </tbody>\n",
       "</table>\n",
       "</div>"
      ],
      "text/plain": [
       "    ID    Group    Age    BMI Gender Smoker  Day  Block  HR    ACC    QI\n",
       "68  69  Control  40-45  18-21   Male     No    0    Day  74   9.98  0.03\n",
       "69  69  Control  40-45  18-21   Male     No    1  Night  57   9.61  0.01\n",
       "70  69  Control  40-45  18-21   Male     No    1    Day  73  10.00  0.11\n",
       "71  69  Control  40-45  18-21   Male     No    2  Night  61   9.47  0.01\n",
       "72  69  Control  40-45  18-21   Male     No    2    Day  66   9.87  0.04\n",
       "73  69  Control  40-45  18-21   Male     No    3  Night  60   9.49  0.06\n",
       "74  69  Control  40-45  18-21   Male     No    3    Day  67   9.80  0.02"
      ]
     },
     "execution_count": 452,
     "metadata": {},
     "output_type": "execute_result"
    }
   ],
   "source": [
    "data.loc[data['QI']<0.3]"
   ]
  },
  {
   "cell_type": "code",
   "execution_count": 613,
   "id": "e9b34b10",
   "metadata": {},
   "outputs": [],
   "source": [
    "data_QI=data.loc[(data['Group']=='Control')&((data['Age']=='40-45')|(data['Age']=='45-50'))]\n",
    "data_QI=data_QI.drop(range(68,75))"
   ]
  },
  {
   "cell_type": "code",
   "execution_count": 614,
   "id": "f7b72434",
   "metadata": {},
   "outputs": [],
   "source": [
    "QI_max=data_QI['QI'].max()\n",
    "QI_min=data_QI['QI'].min()"
   ]
  },
  {
   "cell_type": "code",
   "execution_count": 615,
   "id": "e52972a1",
   "metadata": {},
   "outputs": [],
   "source": [
    "#fill random value to the outliers  based on the other people's QI\n",
    "rand=random.Random()\n",
    "\n",
    "for i in range(68,75):\n",
    "    data.iloc[i,-2]=round(rand.uniform(QI_min, QI_max),2)"
   ]
  },
  {
   "cell_type": "markdown",
   "id": "b01c9104",
   "metadata": {},
   "source": [
    "### Some charts to see data relationship"
   ]
  },
  {
   "cell_type": "markdown",
   "id": "27b737f0",
   "metadata": {},
   "source": [
    "I investigate the influence of `Block`, `Smoker`, `Gender` on `HR` in different groups by jitter plots. It should be noticed that the heart rate of group 'Patient' is larger and spreads more than the group 'Control', indicating that substance abuse could lead to higher heart rate with a larger spread. \n",
    "\n",
    "The heart rate during the day is large than that during night, which could be related to more activities during the day.\n",
    "\n",
    "There is no clear impact of `Smoker` and `Gender` on `HR`.\n"
   ]
  },
  {
   "cell_type": "code",
   "execution_count": 457,
   "id": "c73a41d7",
   "metadata": {},
   "outputs": [],
   "source": [
    "def jitter(series, factor):\n",
    "    a = float(factor)*0.2\n",
    "    return series.apply(lambda x: x+np.random.uniform(-a,a))"
   ]
  },
  {
   "cell_type": "code",
   "execution_count": 594,
   "id": "0fb28b06",
   "metadata": {},
   "outputs": [],
   "source": [
    "df1 = data[(data['Group']=='Control')&(data['Block']=='Day')]\n",
    "df1['index']=1\n",
    "df1['index'] = jitter(df1['index'], 1)\n",
    "\n",
    "df2 = data[(data['Group']=='Patient')&(data['Block']=='Day')]\n",
    "df2['index']=2\n",
    "df2['index'] = jitter(df2['index'], 1)\n",
    "\n",
    "df3 = data[(data['Group']=='Control')&(data['Block']=='Night')]\n",
    "df3['index']=1\n",
    "df3['index'] = jitter(df3['index'], 1)\n",
    "\n",
    "df4 = data[(data['Group']=='Patient')&(data['Block']=='Night')]\n",
    "df4['index']=2\n",
    "df4['index'] = jitter(df4['index'], 1)"
   ]
  },
  {
   "cell_type": "code",
   "execution_count": 460,
   "id": "2a68e803",
   "metadata": {},
   "outputs": [
    {
     "data": {
      "text/plain": [
       "([<matplotlib.axis.XTick at 0x2923171b9a0>,\n",
       "  <matplotlib.axis.XTick at 0x2923171b970>,\n",
       "  <matplotlib.axis.XTick at 0x292317266a0>,\n",
       "  <matplotlib.axis.XTick at 0x29231764fa0>],\n",
       " [Text(0, 0, '  '),\n",
       "  Text(1, 0, 'Health Control'),\n",
       "  Text(2, 0, 'Patient'),\n",
       "  Text(3, 0, ' ')])"
      ]
     },
     "execution_count": 460,
     "metadata": {},
     "output_type": "execute_result"
    },
    {
     "data": {
      "image/png": "[encoded data removed]",
      "text/plain": [
       "<Figure size 504x288 with 1 Axes>"
      ]
     },
     "metadata": {
      "needs_background": "light"
     },
     "output_type": "display_data"
    }
   ],
   "source": [
    "# f, axs = plt.subplots(2,1,figsize=(7,10))\n",
    "# ax1 = plt.subplot(211)\n",
    "l1=plt.scatter(df1['index'], df1['HR'],s=8,c='cornflowerblue')\n",
    "l2=plt.scatter(df2['index'], df2['HR'],s=8,c='cornflowerblue')\n",
    "\n",
    "x_min, x_max, y_min, y_max = 0, 3, 30,140\n",
    "plt.axis([x_min, x_max, y_min, y_max])\n",
    "\n",
    "# plt.ylabel('Day Heart Rate')\n",
    "# plt.tick_params('x', labelbottom=False)\n",
    "# # share x only\n",
    "# ax2 = plt.subplot(212, sharey=ax1)\n",
    "\n",
    "l3=plt.scatter(df3['index'], df3['HR'],s=8,c='darkgoldenrod')\n",
    "l4=plt.scatter(df4['index'], df4['HR'],s=8,c='darkgoldenrod')\n",
    "\n",
    "x_min, x_max, y_min, y_max = 0, 3, 30,140\n",
    "# plt.axis([x_min, x_max, y_min, y_max])\n",
    "\n",
    "plt.ylabel('Heart Rate')\n",
    "plt.legend(handles=[l1,l3],labels=['Day HR','Night HR '],loc='best')\n",
    "\n",
    "# make these tick labels invisible\n",
    "x = range(0,4,1)\n",
    "plt.xticks(x, ('  ','Health Control','Patient',' '))"
   ]
  },
  {
   "cell_type": "code",
   "execution_count": 461,
   "id": "4e8e40c7",
   "metadata": {},
   "outputs": [
    {
     "data": {
      "text/plain": [
       "array(['No', 'Na', 'Former smoker', 'Yes'], dtype=object)"
      ]
     },
     "execution_count": 461,
     "metadata": {},
     "output_type": "execute_result"
    }
   ],
   "source": [
    "data['Smoker'].unique()"
   ]
  },
  {
   "cell_type": "code",
   "execution_count": 590,
   "id": "f312f864",
   "metadata": {},
   "outputs": [],
   "source": [
    "df_smoke1 = data[(data['Group']=='Control')&((data['Smoker']=='No')|(data['Smoker']=='Former smoker'))]\n",
    "df_smoke1['index']=1\n",
    "df_smoke1['index'] = jitter(df_smoke1['index'], 1)\n",
    "\n",
    "df_smoke2 = data[(data['Group']=='Patient')&(data['Smoker']=='No')]\n",
    "df_smoke2['index']=2\n",
    "df_smoke2['index'] = jitter(df_smoke2['index'], 1)"
   ]
  },
  {
   "cell_type": "code",
   "execution_count": 591,
   "id": "fe8c9c07",
   "metadata": {},
   "outputs": [],
   "source": [
    "df_smoke3 = data[(data['Group']=='Control')&(data['Smoker']=='Yes')]\n",
    "df_smoke3['index']=1\n",
    "df_smoke3['index'] = jitter(df_smoke3['index'], 1)\n",
    "\n",
    "df_smoke4 = data[(data['Group']=='Patient')&(data['Smoker']=='Yes')]\n",
    "df_smoke4['index']=2\n",
    "df_smoke4['index'] = jitter(df_smoke4['index'], 1)"
   ]
  },
  {
   "cell_type": "code",
   "execution_count": 464,
   "id": "8a89f42d",
   "metadata": {},
   "outputs": [
    {
     "data": {
      "text/plain": [
       "([<matplotlib.axis.XTick at 0x29231796a30>,\n",
       "  <matplotlib.axis.XTick at 0x29231796a00>,\n",
       "  <matplotlib.axis.XTick at 0x29231785b20>,\n",
       "  <matplotlib.axis.XTick at 0x292317c6c40>],\n",
       " [Text(0, 0, '  '),\n",
       "  Text(1, 0, 'Health Control'),\n",
       "  Text(2, 0, 'Patient'),\n",
       "  Text(3, 0, ' ')])"
      ]
     },
     "execution_count": 464,
     "metadata": {},
     "output_type": "execute_result"
    },
    {
     "data": {
      "image/png": "[encoded data removed]",
      "text/plain": [
       "<Figure size 504x288 with 1 Axes>"
      ]
     },
     "metadata": {
      "needs_background": "light"
     },
     "output_type": "display_data"
    }
   ],
   "source": [
    "# ax1 = plt.subplot(211)\n",
    "l1=plt.scatter(df_smoke1['index'], df_smoke1['HR'],s=8,c='cornflowerblue')\n",
    "l2=plt.scatter(df_smoke2['index'], df_smoke2['HR'],s=8,c='cornflowerblue')\n",
    "\n",
    "x_min, x_max, y_min, y_max = 0, 3, 30,140\n",
    "plt.axis([x_min, x_max, y_min, y_max])\n",
    "\n",
    "# plt.ylabel('Day Heart Rate')\n",
    "# plt.tick_params('x', labelbottom=False)\n",
    "# # share x only\n",
    "# ax2 = plt.subplot(212, sharey=ax1)\n",
    "\n",
    "l3=plt.scatter(df_smoke3['index'], df_smoke3['HR'],s=8,c='darkgoldenrod')\n",
    "l4=plt.scatter(df_smoke4['index'], df_smoke4['HR'],s=8,c='darkgoldenrod')\n",
    "\n",
    "x_min, x_max, y_min, y_max = 0, 3, 30,140\n",
    "# plt.axis([x_min, x_max, y_min, y_max])\n",
    "\n",
    "plt.ylabel('Heart Rate')\n",
    "plt.legend(handles=[l1,l3],labels=['Not a smoker','Smoker '],loc='best')\n",
    "\n",
    "# make these tick labels invisible\n",
    "x = range(0,4,1)\n",
    "plt.xticks(x, ('  ','Health Control','Patient',' '))"
   ]
  },
  {
   "cell_type": "code",
   "execution_count": 592,
   "id": "3ed6b8b5",
   "metadata": {},
   "outputs": [],
   "source": [
    "df_gender = data[(data['Group']=='Control')&(data['Gender']=='Female')]\n",
    "df_gender['index']=1\n",
    "df_gender['index'] = jitter(df_gender['index'], 1)\n",
    "\n",
    "df_gender2 = data[(data['Group']=='Patient')&(data['Gender']=='Female')]\n",
    "df_gender2['index']=2\n",
    "df_gender2['index'] = jitter(df_gender2['index'], 1)\n",
    "\n",
    "df_gender3 = data[(data['Group']=='Control')&(data['Gender']=='Male')]\n",
    "df_gender3['index']=1\n",
    "df_gender3['index'] = jitter(df_gender3['index'], 1)\n",
    "\n",
    "df_gender4 = data[(data['Group']=='Patient')&(data['Gender']=='Male')]\n",
    "df_gender4['index']=2\n",
    "df_gender4['index'] = jitter(df_gender4['index'], 1)\n"
   ]
  },
  {
   "cell_type": "code",
   "execution_count": 522,
   "id": "c7a241b9",
   "metadata": {},
   "outputs": [
    {
     "data": {
      "text/plain": [
       "([<matplotlib.axis.XTick at 0x2923655edc0>,\n",
       "  <matplotlib.axis.XTick at 0x2923655ed60>,\n",
       "  <matplotlib.axis.XTick at 0x2923655e4c0>,\n",
       "  <matplotlib.axis.XTick at 0x29236593ca0>],\n",
       " [Text(0, 0, '  '),\n",
       "  Text(1, 0, 'Health Control'),\n",
       "  Text(2, 0, 'Patient'),\n",
       "  Text(3, 0, ' ')])"
      ]
     },
     "execution_count": 522,
     "metadata": {},
     "output_type": "execute_result"
    },
    {
     "data": {
      "image/png": "[encoded data removed]",
      "text/plain": [
       "<Figure size 504x288 with 1 Axes>"
      ]
     },
     "metadata": {
      "needs_background": "light"
     },
     "output_type": "display_data"
    }
   ],
   "source": [
    "# ax1 = plt.subplot(211)\n",
    "l1=plt.scatter(df_gender['index'], df_gender['HR'],s=8,c='cornflowerblue')\n",
    "l2=plt.scatter(df_gender2['index'], df_gender2['HR'],s=8,c='cornflowerblue')\n",
    "\n",
    "x_min, x_max, y_min, y_max = 0, 3, 30,140\n",
    "plt.axis([x_min, x_max, y_min, y_max])\n",
    "\n",
    "# plt.ylabel('Day Heart Rate')\n",
    "# plt.tick_params('x', labelbottom=False)\n",
    "# # share x only\n",
    "# ax2 = plt.subplot(212, sharey=ax1)\n",
    "\n",
    "l3=plt.scatter(df_gender3['index'], df_gender3['HR'],s=8,c='darkgoldenrod')\n",
    "l4=plt.scatter(df_gender4['index'], df_gender4['HR'],s=8,c='darkgoldenrod')\n",
    "\n",
    "x_min, x_max, y_min, y_max = 0, 3, 30,140\n",
    "# plt.axis([x_min, x_max, y_min, y_max])\n",
    "\n",
    "plt.ylabel('Heart Rate')\n",
    "plt.legend(handles=[l1,l3],labels=['Female','Male '],loc='best')\n",
    "\n",
    "# make these tick labels invisible\n",
    "x = range(0,4,1)\n",
    "plt.xticks(x, ('  ','Health Control','Patient',' '))"
   ]
  },
  {
   "cell_type": "code",
   "execution_count": 519,
   "id": "937832b7",
   "metadata": {},
   "outputs": [
    {
     "data": {
      "text/plain": [
       "([<matplotlib.axis.XTick at 0x292362c7220>,\n",
       "  <matplotlib.axis.XTick at 0x292362c71f0>,\n",
       "  <matplotlib.axis.XTick at 0x292362c29d0>,\n",
       "  <matplotlib.axis.XTick at 0x29236304040>],\n",
       " [Text(0, 0, '  '),\n",
       "  Text(1, 0, 'Health Control'),\n",
       "  Text(2, 0, 'Patient'),\n",
       "  Text(3, 0, ' ')])"
      ]
     },
     "execution_count": 519,
     "metadata": {},
     "output_type": "execute_result"
    },
    {
     "data": {
      "image/png": "[encoded data removed]",
      "text/plain": [
       "<Figure size 504x288 with 1 Axes>"
      ]
     },
     "metadata": {
      "needs_background": "light"
     },
     "output_type": "display_data"
    }
   ],
   "source": [
    "# ax1 = plt.subplot(211)\n",
    "l1=plt.scatter(df_gender['index'], df_gender['HR'],s=8,c='cornflowerblue')\n",
    "l2=plt.scatter(df_gender2['index'], df_gender2['HR'],s=8,c='cornflowerblue')\n",
    "\n",
    "x_min, x_max, y_min, y_max = 0, 3, 30,140\n",
    "plt.axis([x_min, x_max, y_min, y_max])\n",
    "\n",
    "# plt.ylabel('Day Heart Rate')\n",
    "# plt.tick_params('x', labelbottom=False)\n",
    "# # share x only\n",
    "# ax2 = plt.subplot(212, sharey=ax1)\n",
    "\n",
    "l3=plt.scatter(df_gender3['index'], df_gender3['HR'],s=8,c='darkgoldenrod')\n",
    "l4=plt.scatter(df_gender4['index'], df_gender4['HR'],s=8,c='darkgoldenrod')\n",
    "\n",
    "x_min, x_max, y_min, y_max = 0, 3, 30,140\n",
    "# plt.axis([x_min, x_max, y_min, y_max])\n",
    "\n",
    "plt.ylabel('Night Heart Rate')\n",
    "plt.legend(handles=[l1,l3],labels=['Female','Male '],loc='best')\n",
    "\n",
    "# make these tick labels invisible\n",
    "x = range(0,4,1)\n",
    "plt.xticks(x, ('  ','Health Control','Patient',' '))"
   ]
  },
  {
   "cell_type": "markdown",
   "id": "59ea7448",
   "metadata": {},
   "source": [
    "No significant correlation between heart rate and `ACC`, while there is a postive correlation between heart rate and quality indicator. "
   ]
  },
  {
   "cell_type": "code",
   "execution_count": 620,
   "id": "d07e73a9",
   "metadata": {},
   "outputs": [
    {
     "data": {
      "text/plain": [
       "<seaborn.axisgrid.PairGrid at 0x2923d946580>"
      ]
     },
     "execution_count": 620,
     "metadata": {},
     "output_type": "execute_result"
    },
    {
     "data": {
      "image/png": "[encoded data removed]",
      "text/plain": [
       "<Figure size 540x540 with 12 Axes>"
      ]
     },
     "metadata": {
      "needs_background": "light"
     },
     "output_type": "display_data"
    }
   ],
   "source": [
    "AQ_data=data[['HR','ACC','QI']]\n",
    "\n",
    "sns.pairplot(AQ_data)"
   ]
  },
  {
   "cell_type": "markdown",
   "id": "88e79469",
   "metadata": {},
   "source": [
    "### one-hot encoding\n",
    "\n",
    "The attributes `Group`, `Age`, `BMI`, `Gender`, `Smoker`, `Block` are applied with one hot encoding in order to convert object to numerical value. The correlation plot is based on the one hot data. The attribute `Day` is excluded and not be considered in the model training since it has the least correlation with heart rate according to the correlation."
   ]
  },
  {
   "cell_type": "code",
   "execution_count": 645,
   "id": "1c09388f",
   "metadata": {},
   "outputs": [],
   "source": [
    "one_hot_data = pd.get_dummies(data,columns=['Group', 'Day','Age', 'BMI', 'Gender', 'Smoker', 'Block'],drop_first=True)"
   ]
  },
  {
   "cell_type": "code",
   "execution_count": 646,
   "id": "3c9e80c2",
   "metadata": {
    "scrolled": false
   },
   "outputs": [
    {
     "data": {
      "text/html": [
       "<div>\n",
       "<style scoped>\n",
       "    .dataframe tbody tr th:only-of-type {\n",
       "        vertical-align: middle;\n",
       "    }\n",
       "\n",
       "    .dataframe tbody tr th {\n",
       "        vertical-align: top;\n",
       "    }\n",
       "\n",
       "    .dataframe thead th {\n",
       "        text-align: right;\n",
       "    }\n",
       "</style>\n",
       "<table border=\"1\" class=\"dataframe\">\n",
       "  <thead>\n",
       "    <tr style=\"text-align: right;\">\n",
       "      <th></th>\n",
       "      <th>ID</th>\n",
       "      <th>HR</th>\n",
       "      <th>ACC</th>\n",
       "      <th>QI</th>\n",
       "      <th>num_age</th>\n",
       "      <th>Group_1</th>\n",
       "      <th>Day_1</th>\n",
       "      <th>Day_2</th>\n",
       "      <th>Day_3</th>\n",
       "      <th>Day_4</th>\n",
       "      <th>...</th>\n",
       "      <th>BMI_2</th>\n",
       "      <th>BMI_3</th>\n",
       "      <th>BMI_4</th>\n",
       "      <th>BMI_5</th>\n",
       "      <th>BMI_6</th>\n",
       "      <th>Gender_1</th>\n",
       "      <th>Smoker_1</th>\n",
       "      <th>Smoker_2</th>\n",
       "      <th>Smoker_3</th>\n",
       "      <th>Block_1</th>\n",
       "    </tr>\n",
       "  </thead>\n",
       "  <tbody>\n",
       "    <tr>\n",
       "      <th>0</th>\n",
       "      <td>2</td>\n",
       "      <td>57</td>\n",
       "      <td>9.27</td>\n",
       "      <td>0.90</td>\n",
       "      <td>40</td>\n",
       "      <td>0</td>\n",
       "      <td>0</td>\n",
       "      <td>0</td>\n",
       "      <td>0</td>\n",
       "      <td>0</td>\n",
       "      <td>...</td>\n",
       "      <td>0</td>\n",
       "      <td>0</td>\n",
       "      <td>0</td>\n",
       "      <td>0</td>\n",
       "      <td>0</td>\n",
       "      <td>0</td>\n",
       "      <td>0</td>\n",
       "      <td>1</td>\n",
       "      <td>0</td>\n",
       "      <td>0</td>\n",
       "    </tr>\n",
       "    <tr>\n",
       "      <th>1</th>\n",
       "      <td>2</td>\n",
       "      <td>49</td>\n",
       "      <td>9.52</td>\n",
       "      <td>0.93</td>\n",
       "      <td>40</td>\n",
       "      <td>0</td>\n",
       "      <td>1</td>\n",
       "      <td>0</td>\n",
       "      <td>0</td>\n",
       "      <td>0</td>\n",
       "      <td>...</td>\n",
       "      <td>0</td>\n",
       "      <td>0</td>\n",
       "      <td>0</td>\n",
       "      <td>0</td>\n",
       "      <td>0</td>\n",
       "      <td>0</td>\n",
       "      <td>0</td>\n",
       "      <td>1</td>\n",
       "      <td>0</td>\n",
       "      <td>1</td>\n",
       "    </tr>\n",
       "    <tr>\n",
       "      <th>2</th>\n",
       "      <td>2</td>\n",
       "      <td>59</td>\n",
       "      <td>9.19</td>\n",
       "      <td>0.91</td>\n",
       "      <td>40</td>\n",
       "      <td>0</td>\n",
       "      <td>1</td>\n",
       "      <td>0</td>\n",
       "      <td>0</td>\n",
       "      <td>0</td>\n",
       "      <td>...</td>\n",
       "      <td>0</td>\n",
       "      <td>0</td>\n",
       "      <td>0</td>\n",
       "      <td>0</td>\n",
       "      <td>0</td>\n",
       "      <td>0</td>\n",
       "      <td>0</td>\n",
       "      <td>1</td>\n",
       "      <td>0</td>\n",
       "      <td>0</td>\n",
       "    </tr>\n",
       "    <tr>\n",
       "      <th>3</th>\n",
       "      <td>4</td>\n",
       "      <td>76</td>\n",
       "      <td>10.07</td>\n",
       "      <td>0.98</td>\n",
       "      <td>30</td>\n",
       "      <td>0</td>\n",
       "      <td>0</td>\n",
       "      <td>0</td>\n",
       "      <td>0</td>\n",
       "      <td>0</td>\n",
       "      <td>...</td>\n",
       "      <td>1</td>\n",
       "      <td>0</td>\n",
       "      <td>0</td>\n",
       "      <td>0</td>\n",
       "      <td>0</td>\n",
       "      <td>1</td>\n",
       "      <td>0</td>\n",
       "      <td>1</td>\n",
       "      <td>0</td>\n",
       "      <td>0</td>\n",
       "    </tr>\n",
       "    <tr>\n",
       "      <th>4</th>\n",
       "      <td>4</td>\n",
       "      <td>68</td>\n",
       "      <td>9.88</td>\n",
       "      <td>0.99</td>\n",
       "      <td>30</td>\n",
       "      <td>0</td>\n",
       "      <td>1</td>\n",
       "      <td>0</td>\n",
       "      <td>0</td>\n",
       "      <td>0</td>\n",
       "      <td>...</td>\n",
       "      <td>1</td>\n",
       "      <td>0</td>\n",
       "      <td>0</td>\n",
       "      <td>0</td>\n",
       "      <td>0</td>\n",
       "      <td>1</td>\n",
       "      <td>0</td>\n",
       "      <td>1</td>\n",
       "      <td>0</td>\n",
       "      <td>1</td>\n",
       "    </tr>\n",
       "    <tr>\n",
       "      <th>...</th>\n",
       "      <td>...</td>\n",
       "      <td>...</td>\n",
       "      <td>...</td>\n",
       "      <td>...</td>\n",
       "      <td>...</td>\n",
       "      <td>...</td>\n",
       "      <td>...</td>\n",
       "      <td>...</td>\n",
       "      <td>...</td>\n",
       "      <td>...</td>\n",
       "      <td>...</td>\n",
       "      <td>...</td>\n",
       "      <td>...</td>\n",
       "      <td>...</td>\n",
       "      <td>...</td>\n",
       "      <td>...</td>\n",
       "      <td>...</td>\n",
       "      <td>...</td>\n",
       "      <td>...</td>\n",
       "      <td>...</td>\n",
       "      <td>...</td>\n",
       "    </tr>\n",
       "    <tr>\n",
       "      <th>269</th>\n",
       "      <td>386</td>\n",
       "      <td>80</td>\n",
       "      <td>9.26</td>\n",
       "      <td>0.97</td>\n",
       "      <td>55</td>\n",
       "      <td>1</td>\n",
       "      <td>0</td>\n",
       "      <td>0</td>\n",
       "      <td>0</td>\n",
       "      <td>0</td>\n",
       "      <td>...</td>\n",
       "      <td>0</td>\n",
       "      <td>0</td>\n",
       "      <td>0</td>\n",
       "      <td>1</td>\n",
       "      <td>0</td>\n",
       "      <td>0</td>\n",
       "      <td>0</td>\n",
       "      <td>1</td>\n",
       "      <td>0</td>\n",
       "      <td>0</td>\n",
       "    </tr>\n",
       "    <tr>\n",
       "      <th>270</th>\n",
       "      <td>386</td>\n",
       "      <td>73</td>\n",
       "      <td>9.28</td>\n",
       "      <td>0.98</td>\n",
       "      <td>55</td>\n",
       "      <td>1</td>\n",
       "      <td>1</td>\n",
       "      <td>0</td>\n",
       "      <td>0</td>\n",
       "      <td>0</td>\n",
       "      <td>...</td>\n",
       "      <td>0</td>\n",
       "      <td>0</td>\n",
       "      <td>0</td>\n",
       "      <td>1</td>\n",
       "      <td>0</td>\n",
       "      <td>0</td>\n",
       "      <td>0</td>\n",
       "      <td>1</td>\n",
       "      <td>0</td>\n",
       "      <td>1</td>\n",
       "    </tr>\n",
       "    <tr>\n",
       "      <th>271</th>\n",
       "      <td>386</td>\n",
       "      <td>80</td>\n",
       "      <td>9.28</td>\n",
       "      <td>0.98</td>\n",
       "      <td>55</td>\n",
       "      <td>1</td>\n",
       "      <td>1</td>\n",
       "      <td>0</td>\n",
       "      <td>0</td>\n",
       "      <td>0</td>\n",
       "      <td>...</td>\n",
       "      <td>0</td>\n",
       "      <td>0</td>\n",
       "      <td>0</td>\n",
       "      <td>1</td>\n",
       "      <td>0</td>\n",
       "      <td>0</td>\n",
       "      <td>0</td>\n",
       "      <td>1</td>\n",
       "      <td>0</td>\n",
       "      <td>0</td>\n",
       "    </tr>\n",
       "    <tr>\n",
       "      <th>272</th>\n",
       "      <td>396</td>\n",
       "      <td>63</td>\n",
       "      <td>8.50</td>\n",
       "      <td>0.92</td>\n",
       "      <td>25</td>\n",
       "      <td>1</td>\n",
       "      <td>1</td>\n",
       "      <td>0</td>\n",
       "      <td>0</td>\n",
       "      <td>0</td>\n",
       "      <td>...</td>\n",
       "      <td>1</td>\n",
       "      <td>0</td>\n",
       "      <td>0</td>\n",
       "      <td>0</td>\n",
       "      <td>0</td>\n",
       "      <td>0</td>\n",
       "      <td>0</td>\n",
       "      <td>0</td>\n",
       "      <td>0</td>\n",
       "      <td>1</td>\n",
       "    </tr>\n",
       "    <tr>\n",
       "      <th>273</th>\n",
       "      <td>396</td>\n",
       "      <td>65</td>\n",
       "      <td>8.60</td>\n",
       "      <td>0.92</td>\n",
       "      <td>25</td>\n",
       "      <td>1</td>\n",
       "      <td>1</td>\n",
       "      <td>0</td>\n",
       "      <td>0</td>\n",
       "      <td>0</td>\n",
       "      <td>...</td>\n",
       "      <td>1</td>\n",
       "      <td>0</td>\n",
       "      <td>0</td>\n",
       "      <td>0</td>\n",
       "      <td>0</td>\n",
       "      <td>0</td>\n",
       "      <td>0</td>\n",
       "      <td>0</td>\n",
       "      <td>0</td>\n",
       "      <td>0</td>\n",
       "    </tr>\n",
       "  </tbody>\n",
       "</table>\n",
       "<p>274 rows × 31 columns</p>\n",
       "</div>"
      ],
      "text/plain": [
       "      ID  HR    ACC    QI  num_age  Group_1  Day_1  Day_2  Day_3  Day_4  ...  \\\n",
       "0      2  57   9.27  0.90       40        0      0      0      0      0  ...   \n",
       "1      2  49   9.52  0.93       40        0      1      0      0      0  ...   \n",
       "2      2  59   9.19  0.91       40        0      1      0      0      0  ...   \n",
       "3      4  76  10.07  0.98       30        0      0      0      0      0  ...   \n",
       "4      4  68   9.88  0.99       30        0      1      0      0      0  ...   \n",
       "..   ...  ..    ...   ...      ...      ...    ...    ...    ...    ...  ...   \n",
       "269  386  80   9.26  0.97       55        1      0      0      0      0  ...   \n",
       "270  386  73   9.28  0.98       55        1      1      0      0      0  ...   \n",
       "271  386  80   9.28  0.98       55        1      1      0      0      0  ...   \n",
       "272  396  63   8.50  0.92       25        1      1      0      0      0  ...   \n",
       "273  396  65   8.60  0.92       25        1      1      0      0      0  ...   \n",
       "\n",
       "     BMI_2  BMI_3  BMI_4  BMI_5  BMI_6  Gender_1  Smoker_1  Smoker_2  \\\n",
       "0        0      0      0      0      0         0         0         1   \n",
       "1        0      0      0      0      0         0         0         1   \n",
       "2        0      0      0      0      0         0         0         1   \n",
       "3        1      0      0      0      0         1         0         1   \n",
       "4        1      0      0      0      0         1         0         1   \n",
       "..     ...    ...    ...    ...    ...       ...       ...       ...   \n",
       "269      0      0      0      1      0         0         0         1   \n",
       "270      0      0      0      1      0         0         0         1   \n",
       "271      0      0      0      1      0         0         0         1   \n",
       "272      1      0      0      0      0         0         0         0   \n",
       "273      1      0      0      0      0         0         0         0   \n",
       "\n",
       "     Smoker_3  Block_1  \n",
       "0           0        0  \n",
       "1           0        1  \n",
       "2           0        0  \n",
       "3           0        0  \n",
       "4           0        1  \n",
       "..        ...      ...  \n",
       "269         0        0  \n",
       "270         0        1  \n",
       "271         0        0  \n",
       "272         0        1  \n",
       "273         0        0  \n",
       "\n",
       "[274 rows x 31 columns]"
      ]
     },
     "execution_count": 646,
     "metadata": {},
     "output_type": "execute_result"
    }
   ],
   "source": [
    "one_hot_data"
   ]
  },
  {
   "cell_type": "code",
   "execution_count": 647,
   "id": "429cc8a4",
   "metadata": {},
   "outputs": [
    {
     "data": {
      "text/plain": [
       "Index(['ID', 'HR', 'ACC', 'QI', 'num_age', 'Group_1', 'Day_1', 'Day_2',\n",
       "       'Day_3', 'Day_4', 'Day_5', 'Age_1', 'Age_2', 'Age_3', 'Age_4', 'Age_5',\n",
       "       'Age_6', 'Age_7', 'Age_8', 'Age_9', 'BMI_1', 'BMI_2', 'BMI_3', 'BMI_4',\n",
       "       'BMI_5', 'BMI_6', 'Gender_1', 'Smoker_1', 'Smoker_2', 'Smoker_3',\n",
       "       'Block_1'],\n",
       "      dtype='object')"
      ]
     },
     "execution_count": 647,
     "metadata": {},
     "output_type": "execute_result"
    }
   ],
   "source": [
    "one_hot_data.columns"
   ]
  },
  {
   "cell_type": "code",
   "execution_count": 648,
   "id": "485b4dfe",
   "metadata": {},
   "outputs": [
    {
     "data": {
      "text/plain": [
       "<AxesSubplot:>"
      ]
     },
     "execution_count": 648,
     "metadata": {},
     "output_type": "execute_result"
    },
    {
     "data": {
      "image/png": "[encoded data removed]",
      "text/plain": [
       "<Figure size 792x648 with 2 Axes>"
      ]
     },
     "metadata": {
      "needs_background": "light"
     },
     "output_type": "display_data"
    }
   ],
   "source": [
    "corr = one_hot_data.corr()\n",
    "mask = np.triu(np.ones_like(corr, dtype=bool))\n",
    "# Set up the matplotlib figure\n",
    "f, ax = plt.subplots(figsize=(11, 9))\n",
    "cmap = sns.diverging_palette(230, 20, as_cmap=True)\n",
    "\n",
    "# Draw the heatmap with the mask and correct aspect ratio\n",
    "sns.heatmap(corr, mask=mask, cmap=cmap, vmax=.3, center=0,\n",
    "            square=True, linewidths=.5, cbar_kws={\"shrink\": .5})\n"
   ]
  },
  {
   "cell_type": "markdown",
   "id": "6d1fc767",
   "metadata": {},
   "source": [
    "## Baseline\n",
    "\n",
    "Apply linear regression to the model as baseline. The used evaluation method mean quared error is 0.23 which is small."
   ]
  },
  {
   "cell_type": "code",
   "execution_count": 641,
   "id": "a1d505ea",
   "metadata": {},
   "outputs": [],
   "source": [
    "# define X and y\n",
    "feature_cols = ['ID','ACC', 'QI', 'num_age', 'Group_1', 'Age_1', 'Age_2',\n",
    "       'Age_3', 'Age_4', 'Age_5', 'Age_6', 'Age_7', 'Age_8', 'Age_9', 'BMI_1',\n",
    "       'BMI_2', 'BMI_3', 'BMI_4', 'BMI_5', 'BMI_6', 'Gender_1', 'Smoker_1',\n",
    "       'Smoker_2', 'Smoker_3', 'Block_1']\n",
    "X = one_hot_data[feature_cols]\n",
    "y = one_hot_data['HR']\n",
    "\n",
    "\n",
    "# split X and y into training and testing sets\n",
    "X_train, X_test, y_train, y_test = train_test_split(X, y, test_size=0.30, random_state=0)\n",
    "\n",
    "X_train_std = (X_train - X_train.mean()) / X_train.std()\n",
    "X_test_std = (X_test - X_train.mean()) / X_train.std()\n",
    "\n",
    "y_train_std = (y_train - y_train.mean()) / y_train.std()\n",
    "y_test_std = (y_test - y_train.mean()) / y_train.std()"
   ]
  },
  {
   "cell_type": "code",
   "execution_count": 642,
   "id": "601aac17",
   "metadata": {},
   "outputs": [
    {
     "data": {
      "text/plain": [
       "0.23394944822358024"
      ]
     },
     "execution_count": 642,
     "metadata": {},
     "output_type": "execute_result"
    }
   ],
   "source": [
    "from sklearn import linear_model\n",
    "\n",
    "regr = linear_model.LinearRegression()\n",
    "regr.fit(X_train_std, y_train_std)\n",
    "\n",
    "y_test_std_pred = regr.predict(X_test_std)\n",
    "\n",
    "from sklearn.metrics import mean_squared_error\n",
    "\n",
    "mean_squared_error(y_test_std_pred,y_test_std)"
   ]
  },
  {
   "cell_type": "code",
   "execution_count": null,
   "id": "00842dff",
   "metadata": {},
   "outputs": [],
   "source": []
  },
  {
   "cell_type": "code",
   "execution_count": null,
   "id": "5b1c019d",
   "metadata": {},
   "outputs": [],
   "source": []
  },
  {
   "cell_type": "code",
   "execution_count": null,
   "id": "75ff6f41",
   "metadata": {},
   "outputs": [],
   "source": []
  },
  {
   "cell_type": "code",
   "execution_count": null,
   "id": "44d8825d",
   "metadata": {},
   "outputs": [],
   "source": []
  },
  {
   "cell_type": "code",
   "execution_count": null,
   "id": "f095a89d",
   "metadata": {},
   "outputs": [],
   "source": []
  }
 ],
 "metadata": {
  "kernelspec": {
   "display_name": "Python 3",
   "language": "python",
   "name": "python3"
  },
  "language_info": {
   "codemirror_mode": {
    "name": "ipython",
    "version": 3
   },
   "file_extension": ".py",
   "mimetype": "text/x-python",
   "name": "python",
   "nbconvert_exporter": "python",
   "pygments_lexer": "ipython3",
   "version": "3.8.8"
  }
 },
 "nbformat": 4,
 "nbformat_minor": 5
}
